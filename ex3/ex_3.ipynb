{
 "cells": [
  {
   "attachments": {},
   "cell_type": "markdown",
   "metadata": {},
   "source": [
    "# Exercise 3"
   ]
  },
  {
   "attachments": {},
   "cell_type": "markdown",
   "metadata": {},
   "source": [
    "### Necessary imports"
   ]
  },
  {
   "cell_type": "code",
   "execution_count": 6,
   "metadata": {},
   "outputs": [],
   "source": [
    "import pandas as pd\n",
    "import nltk\n",
    "from nltk.util import ngrams\n",
    "import random"
   ]
  },
  {
   "attachments": {},
   "cell_type": "markdown",
   "metadata": {},
   "source": [
    "### Dataset loading"
   ]
  },
  {
   "cell_type": "code",
   "execution_count": 7,
   "metadata": {},
   "outputs": [],
   "source": [
    "# I must read the dataset without pandas because some lines were skipped\n",
    "\n",
    "df = pd.DataFrame(columns=['sentences'])\n",
    "with open(\"./dataset/tweets.csv\", 'r', encoding=\"utf8\") as file:\n",
    "    for line in file:\n",
    "        df.loc[len(df)] = str(line).split(',', 2)[1].replace('&amp;', '&')\n",
    "\n",
    "df_tokenized = pd.DataFrame(columns=['word'])\n",
    "for text in df['sentences']:\n",
    "    tokens = text.split()\n",
    "    for token in tokens:\n",
    "        df_tokenized.loc[len(df_tokenized)] = token\n",
    "words_count = df_tokenized.stack().value_counts()"
   ]
  },
  {
   "attachments": {},
   "cell_type": "markdown",
   "metadata": {},
   "source": [
    "### Creating the bi-gram and tri-gram models"
   ]
  },
  {
   "cell_type": "code",
   "execution_count": 8,
   "metadata": {},
   "outputs": [],
   "source": [
    "def generate_grams(text, n):\n",
    "    tokens = text.split()\n",
    "    return list(ngrams(tokens, n, pad_left=True, pad_right=True, left_pad_symbol='<s>', right_pad_symbol='</s>'))"
   ]
  },
  {
   "attachments": {},
   "cell_type": "markdown",
   "metadata": {},
   "source": [
    "### Calculating the counts of the bi-gram and tri-gram models"
   ]
  },
  {
   "cell_type": "code",
   "execution_count": 9,
   "metadata": {},
   "outputs": [],
   "source": [
    "bigram = df['sentences'].apply(lambda x: generate_grams(x, 2)).tolist()\n",
    "trigram = df['sentences'].apply(lambda x: generate_grams(x, 3)).tolist()\n",
    "\n",
    "bigram = [item for sublist in bigram for item in sublist]\n",
    "trigram = [item for sublist in trigram for item in sublist]\n",
    "\n",
    "bigram_count = nltk.FreqDist(bigram)\n",
    "trigram_count = nltk.FreqDist(trigram)"
   ]
  },
  {
   "attachments": {},
   "cell_type": "markdown",
   "metadata": {},
   "source": [
    "### Calculating the probabilities of the bi-gram and tri-gram models"
   ]
  },
  {
   "cell_type": "code",
   "execution_count": 10,
   "metadata": {},
   "outputs": [],
   "source": [
    "bigram_prob = []\n",
    "trigram_prob = []\n",
    "\n",
    "for bigram in bigram_count.items():\n",
    "    if bigram[0][0] == '<s>':\n",
    "        bigram_prob.append((bigram[0], bigram[1] / len(df)))\n",
    "    else:\n",
    "        bigram_prob.append((bigram[0], bigram[1] / words_count[bigram[0][0]]))\n",
    "\n",
    "for trigram in trigram_count.items():\n",
    "    if trigram[0][0] == '<s>' and trigram[0][1] == '<s>':\n",
    "        trigram_prob.append((trigram[0], trigram[1] / len(df)))\n",
    "    else:\n",
    "        trigram_prob.append((trigram[0], trigram[1] / bigram_count[trigram[0][:2]]))"
   ]
  },
  {
   "attachments": {},
   "cell_type": "markdown",
   "metadata": {},
   "source": [
    "### I use the two models to generate 50 tweets"
   ]
  },
  {
   "cell_type": "code",
   "execution_count": 11,
   "metadata": {},
   "outputs": [
    {
     "name": "stdout",
     "output_type": "stream",
     "text": [
      "-------- Bigram model tweets --------\n",
      "What happened to you hate him on America. Get some DJT ties and much more. I feel sorry for PRESIDENT will fire @DannyZuker @realDonaldTrump how a person reacts to stop calling ISIS leaders \"MASTERMINDS.\" Call them Mr. Trump. You really bad. John Weaver lost for them.\" LOSERS! \n",
      "“Nancy Pelosi cares more dangerous Lottery. \n",
      "Why do with dopey Jon Stewart is as one bit haha. Do Nothing Dems are win… \n",
      "Congratulations to get near their real name or get out for mentions! \n",
      "While Jon Stewart is a husband and losers! \n",
      "Mini Mike Bloomberg called me too stupid to admire genius! \n",
      "\"@PureManhattan: @DannyZuker on. A.) Not famous enough. C) Hates losers. \n",
      "Lightweight @AGSchneiderman’s phony last us Barack Obama. Loser. When he was incredible - a Marine nor ever RT“@realDonaldTrump: I love whose parents are not successful like @secupp a person reacts to you in London not done in coal now will miss him for his own account/lawyer who went around for the haters and trillions of fate.\" - Mike was a person on your time. You really bad about 252 new twist of a real person reacts to stop relying on over you--two losers! \n",
      "@Beardymilne @wtfagain David--I hear you quit race. Hey all disgraced and/or fired and losers of fate. \n",
      "....There is the world class company Caesars just sit this election - they affect you don't waste your money! \n",
      "\"@nojoed: @realDonaldTrump The fact the losers \n",
      "The Fake News Awards - and get crushed. \n",
      "Why do that! Too bad. \n",
      "Dummy Graydon Carter fail and losers (lazy!). \n",
      "Michael a loser terrorist.These are the loser terrorist.These are not going to look at Karl is frantically looking. It will die just wonderful! \n",
      "\"@SirHatchporch: Mary Kissel is second time with Bernie! https://t.co/fxZh8zNhks \n",
      "Michael is a total losers who by @jameshohmann @politico explaining why would constantly miss him is second time with \"them\" - it - they were in government to each new twist of 13 Angry & his ratings debates yet Fox should focus on the best confidence gives people taking... \n",
      "Sorry losers say I never a surprise. She’s a protected 2nd Amendment biggest loser Michael a pathetic loser. Money given to the award over total losers that too. \n",
      "The losers to you Sir.\" \n",
      "They are doing well be proactive! \n",
      "I've just doesn't get on Twitter...your haters & CNN can survive the U.S. say I'm worth $3.9 billion sorry I only get crushed. \n",
      "The Huffington Post is a positive winner. EVERYONE including all missle launches have no losers leave it more people who I didn’t give you have it must admit that he has not been hurt by himself. Why he's gone now! \n",
      "Sharks are a crude dope! \n",
      "\"@SeanMcQuade: @Acliffe @realDonaldTrump Mr. Trump is a nut. way she can make this once a person reacts to her. \n",
      "Scots should look like nice to do losers and slams Trump. Problem is a loser most over-rated person reacts to the hope we always say I'm unfollowing you\" The Democrats when they ever put him to retweet haters-losers? \n",
      "I told you destroy our Country. The Democrats when they speak of Bernie Sanders. If you see what Kellyanne did that she got two other jobs? Saw him off & admire genius! \n",
      "It's easy just named @JohnJHarwood who will flip if possible because he “hates” coal. Did you down the loser will see. He is SALT. He will be fine! \n",
      "Lightweight @AGSchneiderman is showing why George Will the losers must cut off of philadelphias comments haven't helped him the few remaining Never met her help didn’t win one race including all smiles! \n",
      "Loser Danny is Mini Mike was decimated by @jameshohmann @politico is their bad taste - also got two other top officials now will die just the third rate. \n",
      "Why was under their main recruitment tool which we are win… \n",
      "Lightweight @AGSchneiderman will die just the losers on right about me. They are jealous & losers must admit that you are invited to be perfect but he is Joy-Ann Reid? Never Trumpers - it will be funny. Interesting! \n",
      "Cryin Chuck Todd in love whose parents are all haters would see in anyway?\" No! \n",
      "Just had enough losers with no idea how a total losers. Love it! \n",
      "\"Failure defeats losers (of which has brought home to know he was nevertheless strong player. But I'd rather support Sleepy Joe! \n",
      "I have called for the Conservative viewership\" A so-called Lincoln Project is Mini Mike Ditka \n",
      "“@realDonaldTrump: I never called me credit for PRESIDENT will lose! \n",
      "\"I don't waste airtime on top.\" \n",
      "\"I don't even called me at why your President. Part of vicious hope but Jeb has led to the case of them.... \n",
      "\"@rodmonium91: @realDonaldTrump everyone knew he is laughing at the Government lets them down. I have it now! \n",
      "\"@MikeMcCabeSad: @realDonaldTrump Goldberger was a good chance to be the act. These are losers. \n",
      "@ThePhilliesGirl @CrossingBroad @Deadspin Sad losers! \n",
      "\"@kyleraccio: @realDonaldTrump how lucky they will separate the Tea Party. Hillary get crushed. \n",
      "@ThePhilliesGirl @CrossingBroad @Deadspin Sad losers! \n",
      "\"@Bobzilla305: @realDonaldTrump @KarlRove just sit this is a disgrace to the haters and Order?\" \n",
      "A so-called “Lincoln Project” goes into ISIS! \n",
      "\"@SpinningDisk: @realDonaldTrump someone without an amazing number of Bernie Sanders. If I’m at the U.S. say they couldn’t envision this. You mean ten times loser! \n",
      "Everytime someone needs to each new twist of NY. Only wants self publicity—a total loser! \n",
      "Lightweight @AGSchneiderman is dying @NYDailyNews asked me of losers like a stone cold loser POLITITIANS!! Inspire GREATNESS! #TRUMP #2016\" \n",
      "\"@TorresTerrell: @realDonaldTrump @KarlRove have a total loser will self-destruct just sit this coming Monday. The biggest EVER Tax & haters and totally biased of losers don't even the reason they lost. They cannot help didn’t even less powerful than perhaps the many great energy in many people! \n",
      "The losers (of which we followed their jobs out of Scotland Yard. Must be back to be dealt with Bernie! https://t.co/fxZh8zNhks \n",
      "-------- End of bigram model tweets --------\n",
      "-------- Trigram model tweets --------\n",
      "@Beardymilne @wtfagain I know you are a loser-after reading your credits I have never heard of you and was told you are a waste of time! \n",
      "Why do losers & haters always say I never attacked dopey Jon Stewart is a major loser - having a healthy ego or high opinion of yourself is a joke—should have chosen Andy Murray—U.S. Open & Olympic gold winner—as Top Scot instead of a husband Moonface but it must have been really bad. John Weaver lost big for Kasich (to me). Crazed Rick Wilson.... \n",
      "Just watched a world class company and employ many people! \n",
      "Just watched a world class company and employ many people! \n",
      "Dopey Sugar @Lord_Sugar—you are the worst people being in politics yet they speak as experts on “Trump.” Same people since long before the 2016 Election and how did that work out for the Comcast/NBC losers making up phony stories about me. Low Ratings. Fake News! \n",
      "\"@SeanMcQuade: @Acliffe @realDonaldTrump jealous of Forbes & a total loser! \n",
      "\"@jperk1: @realDonaldTrump Goldberger was a loser with no talent--why did they ever put him on even though he has given them is SALT. He never even called me to go Mike! \n",
      "The Patch a total loser!\" Perhaps but 100% true! \n",
      "Great article by @jameshohmann @politico explaining why @KarlRove was biggest loser tonight by far the most important ally of the Witch Hunt continues. After 3 years of relentless attacks against the losers! \n",
      "\"@PhilipinDC: I've finally unfollowed @realDonaldTrump\" I doubt it loser but a loyal follower! \n",
      "Obama is laughing at Karl Rove losers-true! I never went Bankrupt -- but I am all about jealousy. You should just ignore their false reporting.\" But I'd rather expose them as losers! \n",
      "\"@MrPerfect4: @realDonaldTrump how are you a billionaire?\" You mean the haters (& losers) want to shut down the Government lets them out of control - they will always try to destroy our true champions and winners in this country while at the thought of their daughter being with @Rosie--a true loser. \n",
      "Bill Kristol has been wrong for 2yrs-an embarrassed loser but if the Government lets them out of NY. Only wants self publicity—a total loser! \n",
      "Another attack in London not me...... \n",
      "So many people think I will not run for PRESIDENT will the haters & losers. We have our hostages testing research and all missle launches have stoped and these pundits who have no Country left. They should love Sleepy Joe! \n",
      "Lightweight reporter Alex Pareene @pareene is known as a surprise. She’s a loser - no clue! \n",
      "@Beardymilne @wtfagain David--I hear you are a clown.Yes and loser! \n",
      "“You're never a loser who has no idea how lucky they are!!! \n",
      "Via @fitsnews: “Donald Trump: ‘Karl Rove Is A Total Loser’ So Why Are People Still Giving Him Money?” http://t.co/q2RldzhB via @Mediaite \n",
      "My @SquawkCNBC interview discussing why @MittRomney is a loser for South Carolina doesn’t deserve your vote! \n",
      "\"@seankesser: @Ross_7_7 @4politics2 @lonepatrick Trump is so good for the losing McCain ’08 & Huntsman ’12. She’s a loser \n",
      "@G_Harwood Because they are either jealous or losers (or both). \n",
      "Happy Thanksgiving to all--even the haters and losers use their real name or identification. Say it again! \n",
      "Have a good (great) brain motivation and the rest of this losers 8 year term\" \n",
      "\"@MarkDRucker1: @realDonaldTrump I don't understand the trolls that follow celebrities to curse them out of NY. Only wants self publicity—a total loser! \n",
      "Sharks are last on my list - other than she (they) should not have taken large amounts of campaign money from a Crooked Hillary a free pass yet telling his lover agent Lisa Page that “we’ll stop” Trump from becoming President? Witch Hunt! \n",
      "If I’m the third most envied man in America the small group of haters as losers with.little imagination and even less understanding of success-and very lazy! \n",
      "\"@SpinningDisk: @realDonaldTrump Ignore them Mr. Trump. Don't waste your time. Sounds like a personal problem for them.\" LOSERS! \n",
      "It's crunch time. This Sunday's All-Star Celebrity @ApprenticeNBC's task will separate the winners from the losers don't know that--thanks. \n",
      "It's time for government to stop what was just named “the golf course of the great men and women of the New Hampshire Republican Party. They’re all LOSERS but Abe Lincoln Republican is all smiles! \n",
      "“Now that the Dems are going to stand around and watch @KarlRove target the Tea Party. They do this at their own then they are not a real positive in life! \n",
      "\"@thatBrody: @realDonaldTrump The @SternShow would never say these things to your face.\"Not haterslosers! \n",
      ".@KarlRove wasted $400 million + and didn’t win one race—a total loser. \n",
      "\"@Who_MikeJones6: @realDonaldTrump #Trump2016 #zukerisaloser\" \n",
      "The many losers and haters will miss him and his dumb clown humor. Too bad! \n",
      "\"@raybongz: RT @realDonaldTrump: It should be out of politics. A total loser! https://t.co/vm3Vv2f9jf \n",
      "\"@PyperProblems: @realDonaldTrump someone needs to fire @DannyZuker !\" He will fire himself-a total loser! \n",
      "Haters and Losers. Not well! \n",
      "Why do we always try to destroy our true champions and winners in this country while at the same old losers and barely breathing. Think about that before you destroy your lives and the lives of your family! \n",
      "\"@daybastrop @foxandfriends @BretBaier The liars that signed the pledge and now works for the haters and losers will be a victim and a drunk/drugged up loser who has got nothing for it Karl is a made up my call with Ukraine. Fiction! https://t.co/0Oad0738NG \n",
      "@colonopenbrakit He is a stone cold loser with no guts! \n",
      "\"@Numerologynow: @realDonaldTrump U R RICH because your #DADDY left U with 400 Million. I only tear down losers. \n",
      "@mimi_187 Mimi--perhaps because they are either jealous or losers bother Donald one bit haha. Do they affect you in anyway?\" No! \n",
      "....I am so amazed that MSNBC & CNN can keep putting on over and over again people that got them there not losers! \n",
      "I own @DannyZuker but he has given them is SALT. He never even called me to get rid of the repetitive and boring (& dumb) haters and losers must admit that unlike others I never attacked dopey Jon Stewart is a nut. way less powerful than Donald Trump\" I agree with you-and a loser! Fox should stay with the people of South Carolina doesn’t deserve your vote! \n",
      "But the Witch Hunt continues. After 3 years of relentless attacks against the Republican Party & me the Do Nothing Dems are going to Houston - Bullshit loser most thought Lakers or Dallas! \n",
      "\"@HarmonBrew: @FoxNews @megynkelly DonaldTrump #KellyFile Trump is the talk of a total loser! Get some real talent or fold! \n",
      "The Wall Street Journal Editorial Board doesn’t have a nice cold beer! \n",
      "I was nice to loser @rosie and she went hostile. Major loser zero credibility! \n",
      "Two stone cold loser who hates Michael a fine young woman-unfair to her. \n",
      "-------- End of trigram model tweets --------\n"
     ]
    }
   ],
   "source": [
    "# I use the two models to generate 50 tweets\n",
    "final_tweets = []\n",
    "\n",
    "# Bigram model\n",
    "for i in range(50):\n",
    "    initial_bigram = random.choices([bigram[0] for bigram in bigram_prob if bigram[0][0] == '<s>'], [bigram[1] for bigram in bigram_prob if bigram[0][0] == '<s>'])[0]\n",
    "    sentence = [initial_bigram]\n",
    "    while sentence[len(sentence) - 1][1] != '</s>':\n",
    "        possible_bigram = []\n",
    "        for bigram in bigram_prob:\n",
    "            if bigram[0][0] == sentence[len(sentence) - 1][1]:\n",
    "                possible_bigram.append(bigram)\n",
    "        sentence.append(random.choices(possible_bigram, [bigram[1] for bigram in possible_bigram])[0][0])\n",
    "    final_tweets.append(sentence)\n",
    "\n",
    "# Print the bigram model tweets\n",
    "print(\"-------- Bigram model tweets --------\")\n",
    "for tweet in final_tweets:\n",
    "    sentence = \"\"\n",
    "    for word in tweet:\n",
    "        if word[0] == '<s>':\n",
    "            sentence += word[1] + \" \"\n",
    "        elif word[1] != '</s>':\n",
    "            sentence += word[1] + \" \"\n",
    "    print(sentence)\n",
    "print(\"-------- End of bigram model tweets --------\")\n",
    "\n",
    "final_tweets = []\n",
    "\n",
    "# Trigram model\n",
    "for i in range(50):\n",
    "    initial_trigram = random.choices([trigram[0] for trigram in trigram_prob if trigram[0][0] == '<s>' and trigram[0][1] == '<s>'], [trigram[1] for trigram in trigram_prob if trigram[0][0] == '<s>' and trigram[0][1] == '<s>'])[0]\n",
    "    sentence = [initial_trigram]\n",
    "    while sentence[len(sentence) - 1][2] != '</s>':\n",
    "        possible_trigram = []\n",
    "        for trigram in trigram_prob:\n",
    "            if trigram[0][0] == sentence[len(sentence) - 1][1] and trigram[0][1] == sentence[len(sentence) - 1][2]:\n",
    "                possible_trigram.append(trigram)\n",
    "        sentence.append(random.choices(possible_trigram, [trigram[1] for trigram in possible_trigram])[0][0])\n",
    "    final_tweets.append(sentence)\n",
    "\n",
    "# Print the trigram model tweets\n",
    "print(\"-------- Trigram model tweets --------\")\n",
    "for tweet in final_tweets:\n",
    "    sentence = \"\"\n",
    "    for word in tweet:\n",
    "        if word[1] != '<s>':\n",
    "            sentence += word[1] + \" \"\n",
    "        elif word[2] == '</s>':\n",
    "            sentence += word[1]\n",
    "    print(sentence)\n",
    "print(\"-------- End of trigram model tweets --------\")\n"
   ]
  }
 ],
 "metadata": {
  "kernelspec": {
   "display_name": ".venv",
   "language": "python",
   "name": "python3"
  },
  "language_info": {
   "codemirror_mode": {
    "name": "ipython",
    "version": 3
   },
   "file_extension": ".py",
   "mimetype": "text/x-python",
   "name": "python",
   "nbconvert_exporter": "python",
   "pygments_lexer": "ipython3",
   "version": "3.11.2"
  },
  "orig_nbformat": 4
 },
 "nbformat": 4,
 "nbformat_minor": 2
}
