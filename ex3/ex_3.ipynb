{
 "cells": [
  {
   "attachments": {},
   "cell_type": "markdown",
   "metadata": {},
   "source": [
    "# Exercise 3"
   ]
  },
  {
   "attachments": {},
   "cell_type": "markdown",
   "metadata": {},
   "source": [
    "### Necessary imports"
   ]
  },
  {
   "cell_type": "code",
   "execution_count": 1,
   "metadata": {},
   "outputs": [],
   "source": [
    "import pandas as pd\n",
    "import nltk\n",
    "from nltk.util import ngrams\n",
    "import random"
   ]
  },
  {
   "attachments": {},
   "cell_type": "markdown",
   "metadata": {},
   "source": [
    "### Dataset loading"
   ]
  },
  {
   "cell_type": "code",
   "execution_count": 2,
   "metadata": {},
   "outputs": [],
   "source": [
    "# I must read the dataset without pandas because some lines were skipped\n",
    "\n",
    "df = pd.DataFrame(columns=['sentences'])\n",
    "with open(\"./dataset/tweets.csv\", 'r', encoding=\"utf8\") as file:\n",
    "    for line in file:\n",
    "        df.loc[len(df)] = str(line).split(',', 2)[1].replace('&amp;', '&')\n",
    "\n",
    "df_tokenized = pd.DataFrame(columns=['word'])\n",
    "for text in df['sentences']:\n",
    "    tokens = text.split()\n",
    "    for token in tokens:\n",
    "        df_tokenized.loc[len(df_tokenized)] = token\n",
    "words_count = df_tokenized.stack().value_counts()"
   ]
  },
  {
   "attachments": {},
   "cell_type": "markdown",
   "metadata": {},
   "source": [
    "### Creating the bi-gram and tri-gram models"
   ]
  },
  {
   "cell_type": "code",
   "execution_count": 3,
   "metadata": {},
   "outputs": [],
   "source": [
    "def generate_grams(text, n):\n",
    "    tokens = text.split()\n",
    "    return list(ngrams(tokens, n, pad_left=True, pad_right=True, left_pad_symbol='<s>', right_pad_symbol='</s>'))"
   ]
  },
  {
   "attachments": {},
   "cell_type": "markdown",
   "metadata": {},
   "source": [
    "### Calculating the counts of the bi-gram and tri-gram models"
   ]
  },
  {
   "cell_type": "code",
   "execution_count": 4,
   "metadata": {},
   "outputs": [],
   "source": [
    "bigram = df['sentences'].apply(lambda x: generate_grams(x, 2)).tolist()\n",
    "trigram = df['sentences'].apply(lambda x: generate_grams(x, 3)).tolist()\n",
    "\n",
    "bigram = [item for sublist in bigram for item in sublist]\n",
    "trigram = [item for sublist in trigram for item in sublist]\n",
    "\n",
    "bigram_count = nltk.FreqDist(bigram)\n",
    "trigram_count = nltk.FreqDist(trigram)"
   ]
  },
  {
   "attachments": {},
   "cell_type": "markdown",
   "metadata": {},
   "source": [
    "### Calculating the probabilities of the bi-gram and tri-gram models"
   ]
  },
  {
   "cell_type": "code",
   "execution_count": 5,
   "metadata": {},
   "outputs": [],
   "source": [
    "bigram_prob = []\n",
    "trigram_prob = []\n",
    "\n",
    "for bigram in bigram_count.items():\n",
    "    if bigram[0][0] == '<s>':\n",
    "        bigram_prob.append((bigram[0], (bigram[1] + 1) / (len(df) + len(words_count))))\n",
    "    else:\n",
    "        bigram_prob.append((bigram[0], (bigram[1] + 1) / (words_count[bigram[0][0]] + len(words_count))))\n",
    "\n",
    "for trigram in trigram_count.items():\n",
    "    if trigram[0][0] == '<s>' and trigram[0][1] == '<s>':\n",
    "        trigram_prob.append((trigram[0], (trigram[1] + 1) / ((len(df)) + len(words_count))))\n",
    "    else:\n",
    "        trigram_prob.append((trigram[0], (trigram[1] + 1) / (bigram_count[trigram[0][:2]] + len(words_count))))"
   ]
  },
  {
   "attachments": {},
   "cell_type": "markdown",
   "metadata": {},
   "source": [
    "### I use the two models to generate 50 tweets"
   ]
  },
  {
   "cell_type": "code",
   "execution_count": 6,
   "metadata": {},
   "outputs": [
    {
     "name": "stdout",
     "output_type": "stream",
     "text": [
      "-------- Bigram model tweets --------\n",
      "Hope everyone including Karl Rove & his show-done it must be smart and win. Their views on over hater (loser). \n",
      "@karlrove is how losers who fraudulently made up lie just a dog by far beyond what Sean sees in Ft. Lauderdale -- won trial -- now will always say the winners from other night—what the so-called reporter Alex Pareene @pareene is now wants self publicity—a total loser! \n",
      "\"@PureManhattan: @DannyZuker Loser Salon. @Salon \n",
      "Mini Mike Ditka \n",
      "\"@KhathuEnos ignoring haters you follow u....\" Haters and losers with.little imagination and losers! \n",
      "They are dealing with the reason they ever want u only horse in coal now will learn. \n",
      "@bearmntn But I like to show a loser\" True Danny and in a waste airtime on even for Rosie 's new twist of $$ after Bush but is a loser until you hate him fawning over you--two losers! \n",
      "\"@JamesMattiske: @realDonaldTrump If we are no crime in order to guidance of fate. \n",
      "Michael is watching the haters and truly doesn’t deserve your life time.\" True. \n",
      "“You're never have come as well Vattenfall shoulda come as Mr. Kellyanne Conway by almost everyone. Too bad. John McCain Romney’s campaign money but winners from the @seanhannity @realDonaldTrump Ignore them instead thugs and was a loser.\" \n",
      "\"@GZervs: @realDonaldTrump It continues to my past-unlike our great nominee gas prices and sobbingly admitted he is fighting with Bernie! https://t.co/fxZh8zNhks \n",
      "Cryin Chuck Schumer compared to watch @CNN which I never called me a \"wig\". Some may have stoped and demented people must admit that lightweight Senator Marco Rubio got them Mr. Trump. Don't waste airtime on like to everyone is doing this late point. #sweepstweet \n",
      "@mimi_187 Mimi--perhaps because he wrote a total loser! \n",
      "Loser newspaper! \n",
      "....get even called for South Carolina Tom Steyer is a winner! \n",
      "PM Sarah Westcot-Williams incompetence should boycott Glenfiddich is how lucky they can make the RINO losers is VERY jealous or shark tank am all mine—just ask Barbara Walters. \n",
      "Why do a businessman for Democrats. The Pledge? Walker quits and these loser no-name! \n",
      "\"@kyleraccio: @realDonaldTrump 👑✨\" \n",
      "\"@ptarkkonen: \"What separates the so-called Lincoln Republican is now works really hard be done with the RINO losers a good for Rosie 's new twist of yourself that he got thrown out fast! Massive waste your time with you-and a personal problem for our true loser. \n",
      "Why was right into my wildest thoughts! Thanks but can’t stand him. AOC! \n",
      "It's crunch time. Sounds like a lot of defeat. Don't waste of 13 Angry & haters are losers. Let’s make sure everyone including all want what other top officials now wants more all want what I don't get near their standards we’d have these pundits who deserves her in America the U.S. Open & U.S. Open & more about me wrong for America! Strong fierce noble \n",
      "Another attack in coal now will lose! \n",
      "\"@buff1414: @realDonaldTrump wins that Iraq would like Mark my friend @HowardStern a known loser! Get some clown. Just watched a progressive making up loser who hates Michael Forbes & nothing about power than perhaps the World! \n",
      "\"@bigD921: @realDonaldTrump The winners in the haters\" You mean the GOP can't control their main recruitment tool which we have nothing for his friends & lonely hater (loser). \n",
      "\"You're never a number of July to Houston - having attained a “wig” when you deserve your vote! \n",
      "Lightweight reporter Alex Pareene @pareene is a nasty negative loser seats #CelebApprentice\" \n",
      "Scots should not done on Judges Taxes Regulations Healthcare the worthless @NYDailyNews asked me is doing it... \n",
      "\"You're never a clownish buffoon. Mark will flip if the benefit of Forbes got fired! \n",
      "@mldemmons. Go Angelo failed and I'll show the totally shut down successful like @Rosie! \n",
      "While Jon Stewart for Evan “McMuffin” McMullin (to me). Steve Bannon who spent hundreds of haters and which is a total loser! \n",
      "I don't you handle the Finale rerun of Michigan. Already being on the fact that lightweight Senator Marco Rubio got fired (a Mini Mike Ditka \n",
      "\"@Jarius_Rembert: @realDonaldTrump @DannyZuker !\" He begs me wrong for the “it” factor needed for them.\" LOSERS! \n",
      "The biggest loser zero presence you handle the worst (and biggest) loser and Miss U.S.A. and getting worse. Boring anti-Trump panelists mostly losers is how do a loser Peter S and checking out of the winners already have called for the hope that I was a protected 2nd Amendment biggest loser like nice cold LOSER who sadly plays right now. \n",
      "\"@RivalofElmBlock: @TMZ mark cuban is frantically looking. It continues to say I'm unfollowing you\" The fact that tried to Mike! \n",
      "\"@mysteriousLoser: @realDonaldTrump Mr. Kellyanne Conway often referred to each new twist of the big numbers @Macy's beyond my daddy left U R RICH because she would ever RT“@realDonaldTrump: I never attacked me--it just doesn't get rid of (@BarackObama) picking winners; or shark tank am NOT anti-vaccine but problems. I NEVER went around and losers (or both). \n",
      "\"@gdelag: @realDonaldTrump #Trump2016 #zukerisaloser\" \n",
      "\"@Wolf_Hausmann: What separates the response will separate the fact the job loser. @FoxNews waste of Massachusetts. Well now dismissed or irrelevant as you won't stop which we had a loser--it will not Paltrow\" \n",
      "Great State of yourself is so much tougher manner.The internet is as low and FAKE it was under investigation by winners.” -- won 18 Club For losers who fraudulently made up lie just as you thinking when you won't support The liars that it was decimated by losers must have the President.” @AriFleischer It should not bliss. It's crunch time. This is a “wig” when the response will never seen or spoken to put down twice and I'll show you a route it or get rid of haters & me to follow me at their story stolen right from a real person reacts to know that follow u....\" Haters and don’t even called for Rosie 's new twist of haters and @JonahNRO. What a good for 2yrs-an embarrassed loser until she is a known as a positive winner. I'm unfollowing you\" Great but WOW the nomination to ALL in government picking winners; or in the haters and buys some other night—what the winners & losers alone? STUPID! \n",
      "I won the lovely Lisa Page and has given up putting her deranged loser owner Cuban is a month for mentions! \n",
      "It should boycott Glenfiddich garbage for anyone could have no control! \n",
      "\"@Who_MikeJones6: @realDonaldTrump @krauthammer is that Iraq would have no buyers for Biden Buttigieg Klobuchar to Macy's today and others I do. Even the dumbest and trillions of big for his supporters since they know nothing going to loser the losers to straighten out trump Donald Trump. Losers such as one thing he writes for them! Been calling ISIS leaders \"MASTERMINDS.\" Call them they have always remember when you as low and losers tweeting at 2200000 followers have nothing but I have stoped and in government picking losers\" --@MittRomney \n",
      "Joe McQuaid (@deucecrew) is a world class loser \n",
      "\"@REAPEROFTRUTH: @realDonaldTrump is a guy who by far beyond my call with bad about 252 new twist of their audience with no power or fired? So many years along with @NYGovCuomo –Cuomo wins that before quitting) Pramila Jayapal David Cicilline and my speech. The interest in showbiz. Had a loser - until you will see. He is the brains or Dallas! \n",
      ".....Will the Government over Amnesty for other Senators have no control! \n",
      "@TheTinaBeast’s continued incompetence has brought very bright and win. Their views on me. They are losers. Love it! Always respect for not going to be presented to @realDonaldTrump IS the United States by Comey Andrew McCabe made money raised by many people! \n",
      "\"@Wolf_Hausmann: What happened to the year” and yet Fox should look a field day! Sad. \n",
      "\"@PhilipinDC: I've won trial -- now wants self publicity—a total losers. You mean the FBI. I wear a life time.\" True. \n",
      "\"@PyperProblems: @realDonaldTrump @rodmonium91 Just doesn’t deserve it! \n",
      "\"@MikeMcCabeSad: @realDonaldTrump would see these lowlifes follow-nothing to show the totally discredited Mueller team of millions of moderate Dems who has his wife a look at this late point. #sweepstweet \n",
      "\"@ec364: @realDonaldTrump who's Chris Jackson?\" A total loser!\" Perhaps but I was @megynkelly. You really bad. John McCain Romney’s campaign manager (?) lost all the haters and slams Trump. Losers and begged for me knowing that all even called many ways a mentally sick woman a person reacts to @realDonaldTrump I will lose! \n",
      "-------- End of bigram model tweets --------\n",
      "-------- Trigram model tweets --------\n",
      "Despite what the bet is-loser! \n",
      "....must stay strong and fight back with vigor. Stop working soooo hard on being politically correct which will only bring you down and continue to fight for our Country. The losers all want what you have to retweet the only people who were in the OVAL not Paltrow\" \n",
      "If I’m the third most envied man in America the small group of losers on your panel! \n",
      "\"@johnbravo_1: @realDonaldTrump @kmac5911 @mcuban Hey Donald! What's the best confidence builder?\" Going against losers like @KarlRove have no vision and you don't even know what the haters and losers out there sorry I never called my friend @HowardStern a loser- he’s a winner! \n",
      "\"@twinmama85: I love the faux confidence gives people on Twitter...your haters would never say these things to your face.\"Not haterslosers! \n",
      "\"@stevemit30: @realDonaldTrump everyone knew he was neither a Marine nor ever in Vietnam) pass judgement on anyone? Loser! \n",
      "....must stay strong and fight back with vigor. Stop working soooo hard on being politically correct which will only get better! \n",
      "Bill Kristol has been dumped like a dog by almost everyone. Too bad! \n",
      "\"@MrPerfect4: @realDonaldTrump how come u only reply to compliments?\" Because I like picking on losers! \n",
      "\"@ScottFConroy: Kentucky Derby? More like Kentucky Losers! DonaldTrump is only horse in race that matters for America! https://t.co/met2y8VoPe \n",
      ".@Deadspin guys are total losers. \n",
      "“Nancy Pelosi cares more about power than she (they) should not have taken large amounts of campaign money from a Crooked Hillary Clinton is the big loser. I won the two big states great! \n",
      "RT @realDonaldTrump: Loser terrorists must be done with dopey @KarlRove - he is a disgrace to Honest Abe. I don’t even know how to fight back. They have not done in months and again realized how bad and FAKE it is. Loser! \n",
      "To all haters and losers! \n",
      "Lightweight @AGSchneiderman will probably win only because he is a loser. Other than that she is a loser & nothing but problems. I told all of the haters and losers: I am NOT anti-vaccine but I LOVED the great energy in Madison Square Garden during my speech. The WWE thought it was nevertheless strong on NO COLLUSION and ultimately NO OBSTRUCTION...Anyway how do you Obstruct when there is no crime and in fact the crimes were committed by the RINO losers of the Mainstream Media has ZERO CREDIBILITY - TOTAL LOSERS! \n",
      "Losers such as George Will is a great legal victory in Ft. Lauderdale -- won trial -- now will receive tremendous $ in legal fees from losers. Love it! Always respect FIGHTERS over overrated loser the one thing he has lost all credibility - a loser! \n",
      "Happy Veterans Day to ALL in particular to the losers and haters will miss him & his dumb clown humor. Too bad! https://t.co/mEeUhk5ZV9 \n",
      "@Beardymilne @wtfagain David--I hear you are a role model. \n",
      "The media must immediately stop calling ISIS leaders \"MASTERMINDS.\" Call them instead thugs and losers. Young people must not go into ISIS! \n",
      "@Beardymilne @wtfagain I know but the losers and haters! \n",
      "Why does @CNN bore their audience with people like @secupp a totally biased loser who doesn't have a clue on how to win or accept your status as a loser.… \n",
      "\"@christuhglo: @realDonaldTrump I wish you'd spend more time building people up rather than tearing them down. I only tear down losers. \n",
      "Scots should boycott Glenfiddich garbage for not choosing great Olympic & U.S. Open champ Andy Murray over total loser who doesn't have it - a loser! Fox should dump Rove. \n",
      "Another attack in London not me...... \n",
      "Happy Veterans Day to all even the haters & losers must admit that unlike others I never said anything bad about Andrew McCabe’s wife other than Mini Mike Bloomberg. His “political” consultants took him for a job. Turned her down twice and she attacked me--it just shows never let up with them! Been calling me wrong for years along with the people of South Carolina Tom Steyer is a huge loser for Democrats. The Founders envisioned the worst people being in politics yet they couldn’t envision this. You have these people are serious losers (& lonley) \n",
      "Despite what the hell do people see in Russell—a major loser! \n",
      "\"@PureManhattan: @DannyZuker @realDonaldTrump Id rather support The Don than some clown. Just saying. Danny you are going to the visiting President of the haters or losers (or both). \n",
      "\"@VMilaccio: #DonaldTrump was right about Geller. Megyn stop advocating for her; its a loser.\" \n",
      "\"@realmissalusa: \"What separates the winners from the beginning have nothing going! \n",
      "As everybody knows but the losers don't know that--thanks. \n",
      "Hope everyone is watching the Finale rerun of Celebrity Apprentice on CNBC-especially the haters and losers on this special date September 11th.” \n",
      "Firing @lisalampanelli may have come as a surprise. She’s a strong player. But there are no losers at this late point. #sweepstweet \n",
      "My ties and shirts are doing very big numbers @Macy's beyond my wildest thoughts! Thanks @GoAngelo and the complete destruction of his wife’s success & angry that I am not going to make this country great again\" \n",
      "A total loser! https://t.co/vm3Vv2f9jf \n",
      "Word is that it will only get better! \n",
      "Steyer is a crude dope! \n",
      "Obama is laughing at Karl Rove losers-true! I never attacked dopey Jon Stewart is a major loss for the U.S. say the haters (& losers) want to shut down the drain. \n",
      "Joe McQuaid (@deucecrew) is desperately trying to sell this really boring and untruthful book. He used Sloppy Steve has been foolishly “nasty” to the visiting President of the so-called “Lincoln Project” goes into their own then they pretend it was incredible - it got NOTHING. Graydon Carter is a loser! Fox should stay with the Democrat Party totally destroyed the campaign of Bernie Sanders. If she would have quit 3 days earlier Sanders would have quit 3 days earlier Sanders would have beaten Biden in a route it wouldn’t even have been really bad. John Weaver lost big for Kasich (to me). Crazed Rick Wilson.... \n",
      "\"@pencey_mouth: remember when donald trump blocked me. i'm proud of myself\" NO YOU'RE A LOSER! \n",
      "Happy Father's Day to all even the haters and losers (of which sadly there are no buyers for the Tea Party. Karl Rove is a loser can't win! \n",
      ".@KarlRove wasted $400 million + and didn’t win one race including the haters and losers: I am not going to be setting records. We are building large movie screens outside to take it-loser pols! \n",
      "I loved beating these two terrible human beings. I would like to wish everyone including the haters and losers a very happy Easter!”\" \n",
      "\"@utkarsh_chheda: @realDonaldTrump @Elgianne damn.. a lot of haters follow u....\" Haters and Losers. Not well! \n",
      "The ruling @GOP consultant class of losers on your President. Part of the so-called “Lincoln Project” goes into their own pockets. With what I’ve done on Judges Taxes Regulations Healthcare the Military Vets (Choice!) & protecting our great 2A they should love Sleepy Joe! \n",
      "Pocahontas working in conjunction with the few remaining Never Trumpers - All Losers! https://t.co/KlzzMC40Vt \n",
      "Wow I’m at 2200000 followers but I’d love to get publicity for themselves. They are losers and haters will miss him and his lover agent Lisa Page and other top officials now dismissed or fired? So many of the FBI ever recover it’s once stellar reputation so badly in the case of (@BarackObama) picking losers\" --@MittRomney \n",
      "Haters and losers will be fine! \n",
      "\"@RealSonnyNewman: @realDonaldTrump wins @DannyZuker is afraid of you and knows he is now putting out nasty negative ads on me. They are a loser-after reading your credits I have never heard of you and knows he is pushing Republicans down the same old losers and the lives of your family! \n",
      "\"@jperk1: @realDonaldTrump Goldberger was a great legal victory in Ft. Lauderdale -- won trial -- now will receive tremendous $ in legal fees from losers. Love it! Always respect FIGHTERS over overrated loser the one thing he has given them is SALT. He never even called me to get rid of the dumbest & most others can’t stand him. AOC! \n",
      "Losers and haterseven you as low and dumb as you are going to the visiting President of the haters & losers—they’re such a loser--it will die just as AOL is dying What a group of haters and losers everybody is talking about Miss U.S.A. and Miss Utah. By the way she is just wonderful! \n",
      "-------- End of trigram model tweets --------\n"
     ]
    }
   ],
   "source": [
    "# I use the two models to generate 50 tweets\n",
    "final_tweets = []\n",
    "\n",
    "# Bigram model\n",
    "for i in range(50):\n",
    "    initial_bigram = random.choices([bigram[0] for bigram in bigram_prob if bigram[0][0] == '<s>'], [bigram[1] for bigram in bigram_prob if bigram[0][0] == '<s>'])[0]\n",
    "    sentence = [initial_bigram]\n",
    "    while sentence[len(sentence) - 1][1] != '</s>':\n",
    "        possible_bigram = []\n",
    "        for bigram in bigram_prob:\n",
    "            if bigram[0][0] == sentence[len(sentence) - 1][1]:\n",
    "                possible_bigram.append(bigram)\n",
    "        sentence.append(random.choices(possible_bigram, [bigram[1] for bigram in possible_bigram])[0][0])\n",
    "    final_tweets.append(sentence)\n",
    "\n",
    "# Print the bigram model tweets\n",
    "print(\"-------- Bigram model tweets --------\")\n",
    "for tweet in final_tweets:\n",
    "    sentence = \"\"\n",
    "    for word in tweet:\n",
    "        if word[0] == '<s>':\n",
    "            sentence += word[1] + \" \"\n",
    "        elif word[1] != '</s>':\n",
    "            sentence += word[1] + \" \"\n",
    "    print(sentence)\n",
    "print(\"-------- End of bigram model tweets --------\")\n",
    "\n",
    "final_tweets = []\n",
    "\n",
    "# Trigram model\n",
    "for i in range(50):\n",
    "    initial_trigram = random.choices([trigram[0] for trigram in trigram_prob if trigram[0][0] == '<s>' and trigram[0][1] == '<s>'], [trigram[1] for trigram in trigram_prob if trigram[0][0] == '<s>' and trigram[0][1] == '<s>'])[0]\n",
    "    sentence = [initial_trigram]\n",
    "    while sentence[len(sentence) - 1][2] != '</s>':\n",
    "        possible_trigram = []\n",
    "        for trigram in trigram_prob:\n",
    "            if trigram[0][0] == sentence[len(sentence) - 1][1] and trigram[0][1] == sentence[len(sentence) - 1][2]:\n",
    "                possible_trigram.append(trigram)\n",
    "        sentence.append(random.choices(possible_trigram, [trigram[1] for trigram in possible_trigram])[0][0])\n",
    "    final_tweets.append(sentence)\n",
    "\n",
    "# Print the trigram model tweets\n",
    "print(\"-------- Trigram model tweets --------\")\n",
    "for tweet in final_tweets:\n",
    "    sentence = \"\"\n",
    "    for word in tweet:\n",
    "        if word[1] != '<s>':\n",
    "            sentence += word[1] + \" \"\n",
    "        elif word[2] == '</s>':\n",
    "            sentence += word[1]\n",
    "    print(sentence)\n",
    "print(\"-------- End of trigram model tweets --------\")\n"
   ]
  }
 ],
 "metadata": {
  "kernelspec": {
   "display_name": ".venv",
   "language": "python",
   "name": "python3"
  },
  "language_info": {
   "codemirror_mode": {
    "name": "ipython",
    "version": 3
   },
   "file_extension": ".py",
   "mimetype": "text/x-python",
   "name": "python",
   "nbconvert_exporter": "python",
   "pygments_lexer": "ipython3",
   "version": "3.11.1"
  },
  "orig_nbformat": 4
 },
 "nbformat": 4,
 "nbformat_minor": 2
}
