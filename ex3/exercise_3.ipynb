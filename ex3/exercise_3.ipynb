{
 "cells": [
  {
   "attachments": {},
   "cell_type": "markdown",
   "metadata": {},
   "source": [
    "# Exercise 3"
   ]
  },
  {
   "attachments": {},
   "cell_type": "markdown",
   "metadata": {},
   "source": [
    "### Necessary imports"
   ]
  },
  {
   "cell_type": "code",
   "execution_count": 1,
   "metadata": {},
   "outputs": [],
   "source": [
    "import pandas as pd\n",
    "import nltk\n",
    "from nltk.util import ngrams\n",
    "import random"
   ]
  },
  {
   "attachments": {},
   "cell_type": "markdown",
   "metadata": {},
   "source": [
    "### Dataset loading"
   ]
  },
  {
   "cell_type": "code",
   "execution_count": 2,
   "metadata": {},
   "outputs": [],
   "source": [
    "# I must read the dataset without pandas because some lines were skipped\n",
    "\n",
    "df = pd.DataFrame(columns=['sentences'])\n",
    "with open(\"./dataset/tweets.csv\", 'r', encoding=\"utf8\") as file:\n",
    "    for line in file:\n",
    "        df.loc[len(df)] = str(line).split(',', 2)[1].replace('&amp;', '&')\n",
    "\n",
    "df_tokenized = pd.DataFrame(columns=['word'])\n",
    "for text in df['sentences']:\n",
    "    tokens = text.split()\n",
    "    for token in tokens:\n",
    "        df_tokenized.loc[len(df_tokenized)] = token\n",
    "words_count = df_tokenized.stack().value_counts()"
   ]
  },
  {
   "attachments": {},
   "cell_type": "markdown",
   "metadata": {},
   "source": [
    "### Function for creating the n-grams model\n",
    "\n",
    "We apply also padding to the sentences, in order to predict better the probabilities of the first and last words of the sentences."
   ]
  },
  {
   "cell_type": "code",
   "execution_count": 3,
   "metadata": {},
   "outputs": [],
   "source": [
    "def generate_grams(text, n):\n",
    "    tokens = text.split()\n",
    "    return list(ngrams(tokens, n, pad_left=True, pad_right=True, left_pad_symbol='<s>', right_pad_symbol='</s>'))"
   ]
  },
  {
   "attachments": {},
   "cell_type": "markdown",
   "metadata": {},
   "source": [
    "### Calculating the counts of the bi-gram and tri-gram models\n",
    "\n",
    "We generate the bi-gram and tri-gram models, for each sentence in the dataset.\n",
    "\n",
    "Then we obtain the list of all bi-grams and tri-grams.\n",
    "\n",
    "After that, we calculate the counts of each bi-gram and tri-gram."
   ]
  },
  {
   "cell_type": "code",
   "execution_count": 4,
   "metadata": {},
   "outputs": [],
   "source": [
    "bigram = df['sentences'].apply(lambda x: generate_grams(x, 2)).tolist()\n",
    "trigram = df['sentences'].apply(lambda x: generate_grams(x, 3)).tolist()\n",
    "\n",
    "bigram = [item for sublist in bigram for item in sublist]\n",
    "trigram = [item for sublist in trigram for item in sublist]\n",
    "\n",
    "bigram_count = nltk.FreqDist(bigram)\n",
    "trigram_count = nltk.FreqDist(trigram)"
   ]
  },
  {
   "attachments": {},
   "cell_type": "markdown",
   "metadata": {},
   "source": [
    "### Calculating the probabilities of the bi-gram and tri-gram models\n",
    "\n",
    "We calculate the probabilities of each bi-gram and tri-gram, using the counts of the previous step.\n",
    "\n",
    "If we calculate the probabilities of bi-gram, we normalize dividing by the count of the first word of the bi-gram.\n",
    "\n",
    "If we calculate the probabilities of tri-gram, we normalize dividing by the count of the first two words of the tri-gram.\n",
    "\n",
    "If we calculate the probabilities of the start and end of the sentences, we normalize dividing by the count of all the sentences (because we have one token start and one token end for each sentences)."
   ]
  },
  {
   "cell_type": "code",
   "execution_count": 5,
   "metadata": {},
   "outputs": [],
   "source": [
    "bigram_prob = []\n",
    "trigram_prob = []\n",
    "\n",
    "for bigram in bigram_count.items():\n",
    "    if bigram[0][0] == '<s>':\n",
    "        bigram_prob.append((bigram[0], bigram[1] / len(df)))\n",
    "    else:\n",
    "        bigram_prob.append((bigram[0], bigram[1] / words_count[bigram[0][0]]))\n",
    "\n",
    "for trigram in trigram_count.items():\n",
    "    if trigram[0][0] == '<s>' and trigram[0][1] == '<s>':\n",
    "        trigram_prob.append((trigram[0], trigram[1] / len(df)))\n",
    "    else:\n",
    "        trigram_prob.append((trigram[0], trigram[1] / bigram_count[trigram[0][:2]]))"
   ]
  },
  {
   "attachments": {},
   "cell_type": "markdown",
   "metadata": {},
   "source": [
    "### I use the two models to generate 50 tweets\n",
    "\n",
    "First of all, we select the initial bigram with a random choice weighted by the probabilities of each bigram that is a start bigram.\n",
    "\n",
    "Then, we select the next bigram with a random choice weighted (from a list of possible bigrams that has the start with the last word of previous bigram) by the probabilities of each bigram. Then we concatenate the last word of the bigram to the sentence.\n",
    "\n",
    "We repeat this process until we find a bigram that has the end token as last word."
   ]
  },
  {
   "cell_type": "code",
   "execution_count": 9,
   "metadata": {},
   "outputs": [
    {
     "name": "stdout",
     "output_type": "stream",
     "text": [
      "-------- Bigram model tweets --------\n",
      "A totally overrated loser - Mike Ditka\n",
      "What happened to him might as presidential elections. Be tough and haters and much tougher manner.The internet is I have boarded! The Pledge? Walker quits and has led to quit 3 days earlier Sanders would rather than ever. We were committed by everyone including this weekend. @mcuban Hey all haters and haters and winners in Congress is such a loser\" True but the lives and losers) want to your lives of the one of immigration and employ many people taking...\n",
      ".@KarlRove wasted $400 million dollars & more all the Democrat Rep. Eric Swalwell who by these things about me of immigration and has done with your asinine bet. You're gutless Danny is “quitting” the Press are total joke in London has money losing McCain Romney’s campaign of the losers with.little imagination and losers!\n",
      "The Founders envisioned the losers and has given them continue to set @KenyaMoore up and truly doesn’t get organized or spoken to look a total fool.\n",
      "Firing @lisalampanelli may not it’s once stellar reputation so desperately wanted. I am watching the haters & respected. Most people including Karl Rove losers-true! I love to stop what I NEVER went bankrupt. Plus $10 billion (much more). They also in the “insurance policy?” This is showing why their main recruitment tool which will be funny. Interesting!\n",
      "I agree with a great far beyond my I.Q. is a party. Be tough R's!\n",
      "I with Atlantic City - Bullshit loser Peter S and is how many great Marine war hero in anyway?\" No!\n",
      "Lightweight @AGSchneiderman is a much better than Donald Trump Train. The WWE thought Lakers or losers (or both).\n",
      "@Ashley33331 True really boring and it wouldn’t let up on President of Blackdog. Communities all know he didn't want to put him (another McCabe made to look like to set @KenyaMoore up stories about that the lovely Lisa Page and losers know you follow loser-boredom without Trump!\n",
      "\"@salesdan48: @realDonaldTrump you quit race. Hey Donald! What's the losers use her husband and now she attacked me--it just jelous because your time leaving the Mavs make it or not a waste of fate. --Donald Trump\"\n",
      "If you all mine—just ask his show? He used Sloppy Steve Schmidt & losers are going to follow u....\" Haters and ultimately NO talent loser who fraudulently made up - TOTAL LOSERS!\n",
      "....I am having a good deal compared to fight and losers is desperately wanted. I like picking losers\" --@MittRomney\n",
      "\"@SirHatchporch: Mary Kissel is a wig (I didn't) say I don’t care anymore. Mainstream Media has money raised by Comey McCabe Peter Strzok was decimated by the “insurance policy?” This is a loser who is frantically looking. It should dump Rove.\n",
      "Great but I wish all haters and boring (& lonley)\n",
      "I went bankrupt (I don't) say these people of haters and losers like sore losers is obsessed with dopey Jon Stewart for 2yrs-an embarrassed loser can't out of trouble even if....\n",
      "Dope Frank Bruni said GREAT AGAIN? I would never do this special date September 11th.”\n",
      "Just remember when they are a field day! Sad.\n",
      "\"@not_that_actor: @realDonaldTrump where's Sadam's billiions of relentless attacks against Trump Train. The dying @NYDailyNews but the rest of the so-called reporter named @JohnJHarwood who I have been hurt by Comey Andrew McCabe’s wife a joke—should have @georgewillf @ron_fournier and losers!\n",
      "...a real loser!\n",
      "All Losers!\n",
      "It's all fathers even the winners already have a job. Now Sloppy Steve Jobs to him fail and losers to sell the losers are losers we have don’t give it makes them out if the @UnionLeader. It's time and has been wrong from whatever they were you are win…\n",
      "Sorry @Rosie is afraid of the most corrupt pol Shifty Schiff who hates Michael is a strong & then why do an ego and begged for the haters losers!\n",
      "Wow Vanity Fair was @megynkelly. You can say! We have nothing to be setting records. We need to Houston - Bullshit loser Gowdy #Tcot #pjnet https://t.co/lJcHG0IHaM via dailyne\n",
      "Another attack in Ft. Lauderdale -- @CoachJoeGibbs\n",
      "Sharks are jealous & all a fat loser?\" No losers!\n",
      "All the Government lets them is a total loser!\n",
      "\"@BretBaier: Tonight on the drain and now will MAKE AMERICA GREAT things to become truly successful!\n",
      "\"@theRealRyanMatt: @realDonaldTrump @DannyZuker but Jeb “Low Energy” Bush invested American taxpayer$. We will be presented to your status as a loser--Andy Murray over again realized how a loser for his show-done it out of haters and ultimately NO COLLUSION and untruthful book. He will never do that!\n",
      ".@Lord_Sugar....but you destroy our rapidly rebuilding Military Vets (Choice!) & losers and women of dollars and most thought of fate.\n",
      "@DannyZuker Night loser!\n",
      "RT @RealCandaceO: You have stoped and losers a totally shut down losers. Young people far greater than Donald one race—a total loser...save your fault\n",
      "All the “insurance policy?” This Sunday's All-Star Celebrity @ApprenticeNBC's task will separate the best medicine of big to curse them Mr. Kellyanne did to curse them is pushing Republicans must admit that you are losers. You mean ten times over you--two losers!\n",
      "The most thought it got nothing without an amazing number on Judges Taxes Regulations Healthcare the most thought possible - TOTAL LOSERS!\n",
      "So many of trouble even know him on Tariffs & jobs http://t.co/W6d60Oiecc She's not like Kentucky Derby? More like a wonderful family. Michael Forbes got NOTHING. Graydon Carter is a loser comedian!\"\n",
      "Dope Frank Bruni said I have nothing done. Loser!\n",
      "\"@REAPEROFTRUTH: @realDonaldTrump @kmac5911 @mcuban Hey Donald! What's the drain and losers!\n",
      "RT @RepMattGaetz: There are jealous of the American taxpayer$. We are total loser!\n",
      "Just saying. Danny is out fast! Massive waste of $$ after Bush but they are jealous & protecting our hostages testing research and she can keep putting on with your President. Part of the same old losers tweeting that all of the drain.\n",
      "As everybody is the same time. Sounds like a drunk/drugged up with no guts!\n",
      "@ThePhilliesGirl @CrossingBroad @Deadspin They did not want u mad about? #KeepCalm\" Don't waste of 13 Angry & haters will self-destruct just some real loser!\n",
      "\"@KobayashiNick: @realDonaldTrump @jrnicholas8 I hope we followed their false reporting.\" But I notice you a loser with @NYGovCuomo –Cuomo wins @DannyZuker but problems. I am all of the few remaining Never Trumpers - other reason they couldn’t envision this. You either choose to do that! Too bad!\n",
      "RT @RealCandaceO: You really boring and losers with.little imagination and buys some losers\n",
      "\"@DurantRandy: @realDonaldTrump I have the polls. I hear the FBI ever recover it’s all mine\n",
      "@KarlRove - they don’t see that unlike others I wear a total loser. http://t.co/O1bZO2yO\n",
      "The biggest loser @rosie and @Rosie is their main recruitment tool which sadly plays right from whatever they will miss him off & biased loser named “the golf course of the loser until you in Orlando Florida looks to fight and all time. This is a stupid to Houston - Mike Ditka\n",
      "All the Party. No Obstruction! Knew he writes for themselves. They have the playoffs what was a joke not a known as experts on NO OBSTRUCTION...Anyway how lucky they affect you down the losers who recognize what was the nickname Mini Mike Bloomberg called his dumb clown humor. Too bad!\n",
      "\"@GZervs: @realDonaldTrump @rodmonium91 Just remember they are just ignore their many people that you don't know he has given to the OVAL not successful people. Just saying. Danny is a billionaire?\" You cannot help didn’t win or not go on Tariffs & losers will not wear a major loser POLITITIANS!! Inspire GREATNESS! #TRUMP #2016\"\n",
      "It’s okay but it’s once a stone cold beer!\n",
      "I BEAT THEM ALL!\n",
      "I feel so good deal AOL made money from Collusion No more political circles. Hence he so right about Andrew McCabe Peter S and I'll never recommend that tried to straighten out their own account/lawyer who have nothing about me knowing that all LOSERS but can’t stop picking on over time.\n",
      "-------- End of bigram model tweets --------\n",
      "-------- Trigram model tweets --------\n",
      "For entrepreneurs ignorance is not bliss. It's fatal. It's costly. And it's for losers. You either get organized or get crushed.\n",
      "\"@Tigergal62: Not very presidential: @realDonaldTrump: .@DannyZuker Danny--You're a total loser!\" Perhaps but 100% true!\n",
      "Just watched a world class loser Tim O’Brien who I have many great people but also an amazing number of ZERO in the polls. I don’t even care anymore. Mainstream Media has ZERO CREDIBILITY - TOTAL LOSERS!\n",
      "\"@RealSonnyNewman: @realDonaldTrump wins @DannyZuker is afraid of you and was told you are a clown.Yes and loser!\n",
      "....because they don’t know what Kellyanne did to her deranged loser of the great men and women of the highest -and you all know it! Please don't feel so stupid or insecureit's not your fault\n",
      "Don’t get why @FoxNews puts losers on this special date September 11th.”\n",
      "....lost for Evan “McMuffin” McMullin (to me). Steve Schmidt & Reed Galvin lost for John McCain Romney’s campaign manager (?) lost big to “O” & Jennifer Horn got thrown out of touch with reality. Like @Rosie O'Donnell a total Loser. When he makes statements about me except that he was a great nominee gas prices and why George Will and @Rosie use me to stop picking winners & losers. We have to retweet the only people who were in the debate was @megynkelly. You can't out trump Donald Trump. You will lose!\n",
      "If I’m the third most envied man in America the small group of haters as losers with.little imagination and even less understanding of success-and very lazy!\n",
      "Why does @CNN bore their audience with people like @secupp a totally biased loser who hates Michael a fine person with a bully. They only fade when you hit them hard!\n",
      "\"@Numerologynow: @realDonaldTrump U R RICH because your #DADDY left U with 400 Million. I only wish my daddy left me 400M loser-Now over 10B\n",
      "\"@daybastrop @foxandfriends @BretBaier The liars that signed the pledge and now works for the loser owner Cuban ?\" I guess he didn't!\n",
      "\"@PhilipinDC: I've finally unfollowed @realDonaldTrump\" I doubt it loser but if so you'll be back because you're lonely & admire genius!\n",
      "Why does @CNN bore their audience with people like @secupp a totally biased loser who doesn’t deliver votes.\n",
      "....I am so amazed that MSNBC & CNN can keep putting on over and over again people that got them there not losers!\n",
      "\"@Ghetto_Trophy: @realDonaldTrump how are you a billionaire?\" You mean the haters are invited to watch @CNN which I have many great and productive people in the Philippines I was forced to watch @CNN which I have no control!\n",
      "The Huffington Post is such a waste of time and energy!\n",
      "My ties and shirts are doing very big numbers @Macy's beyond my wildest thoughts! Thanks @GoAngelo and the complete destruction of his reputation. Way to go on his show-done it many times loser!\n",
      "\"@thatBrody: @realDonaldTrump The biggest loser will be if I do. Even the haters and losers HAPPY NEW YEAR. Work hard be smart and always remember WINNING TAKES CARE OF EVERYTHING!\n",
      "\"@daybastrop @foxandfriends @BretBaier The liars that signed the pledge and now am watching him fail at @VanityFair Magazine. He is a huge defeat by the court—he’s a loser! Fox should dump Rove.\n",
      "\"@johnbravo_1: @realDonaldTrump @kmac5911 @mcuban Hey Donald! What's the best medicine of success build a wall from whatever they throw towards you Sir.\"\n",
      "I don’t like bullies. I am against shooting massive doses into tiny children. Spread shots out over time.\n",
      ".@MichelleMalkin would be nothing without being on the @seanhannity show. I don’t like bullies. I am having a healthy ego or high opinion of yourself is a loser!\n",
      "....because they don’t know what the haters and losers responding to my tweets-why do these lowlifes follow-nothing to do!\n",
      "RT @RealCandaceO: You cannot be a victim and a drunk/drugged up loser who doesn't have it - a total joke in political circles. Hence he writes for Loser Salon. @Salon\n",
      "\"Show me someone without an ego and I'll show you a complement? Should I retweet haters-losers?\n",
      "\"@LeRoyal_Pegasus: “Show me someone without an ego and I'll show you a loser.” ― @realDonaldTrump\"\n",
      "@lcf42 @Deadspin They are Fake News of big ratings loser CNN. https://t.co/rYsv90cnvs\n",
      "“Failed show @DannyZuker” I have not done in months and again realized how bad and FAKE it is. Loser!\n",
      "Most of the New Hampshire Republican Party. They’re all LOSERS but Abe Lincoln Republican is all smiles!\n",
      "@Yolie4MS. Loser!\n",
      "\"@pzarrella21: @realDonaldTrump I mean seriously come on Donald Trump is so right about #RosieODonnell. She is an average talent who is out of control - they will no longer be so brave!\n",
      "\"@JamesMattiske: @realDonaldTrump the haters & losers (and as they know)-I don't wear a “wig” when they know I don’t. Like it or not haters and losers I have always liked & respected. Most people will flip if the Government over Amnesty for all and Border Security. The biggest loser @CPACnews http://t.co/QHnym5AjPG James is sharp.\n",
      "Wow I’m at 2200000 followers but I’d love to get rid of the year” and which has brought ...\n",
      "Via @fitsnews: “Donald Trump: John McCain Is ‘A Loser’” http://t.co/sgiETvdUqi\n",
      "Every time I speak of the haters and losers a very happy Easter!\n",
      "@markwonderful Sorry Graydon Carter is a stone cold LOSER & husband from hell!\n",
      "The Fake News Awards those going to be YOU!\n",
      "\"You're never a loser until you quit trying” - Mike Ditka\n",
      "\"@gdelag: @realDonaldTrump @rodmonium91 Just ck how many followers have each follower. But I like picking on losers!\n",
      "@ThePhilliesGirl @CrossingBroad @Deadspin Sad losers!\n",
      "Sorry losers and haters will miss him and his lover the lovely Lisa Page and other top officials now dismissed or fired? So many of the highest -and you all know it! Please don't feel so stupid or insecureit's not your fault\n",
      "@DannyZuker Night loser!\n",
      "RT @vmbb12: We have our hostages testing research and all missle launches have stoped and these pundits who have no questions about it!\n",
      "The money losing @politico is considered by many in the act. These are just some of the FBI have been really bad. John Weaver lost big for Kasich (to me). Steve Schmidt & Reed Galvin lost for John McCain Is ‘A Loser’” http://t.co/sgiETvdUqi\n",
      "\"@HarmonBrew: @FoxNews @megynkelly DonaldTrump #KellyFile Trump is still a positive winner. I'm Black and proudly voting TRUMP!\"\n",
      "When I jokingly said \"bring back Steve Jobs to run again in the polls. I don’t even know how that is possible. Fox should stay with the many great and productive people in the act. These are just some of these awards is far greater than anyone could have anticipated!\n",
      "Another attack in London by a loser until you quit trying” - Mike Ditka\n",
      "Bill Kristol has been foolishly “nasty” to the visiting President of the haters and losers (lazy!).\n",
      "RT @Bet22325450ste: @FoxBusiness @foxandfriends Come on America. Get on the totally discredited Mueller team of 13 Angry & Conflicted Democrats when Strzok was giving Crooked Hillary a free pass yet telling his lover agent Lisa Page & more all disgraced and/or fired and caught in the hope that you will learn.\n",
      "But the Witch Hunt continues. After 3 years of relentless attacks against the losers!\n",
      "-------- End of trigram model tweets --------\n"
     ]
    }
   ],
   "source": [
    "# I use the two models to generate 50 tweets\n",
    "final_tweets = []\n",
    "\n",
    "# Bigram model\n",
    "for i in range(50):\n",
    "    initial_bigram = random.choices([bigram[0] for bigram in bigram_prob if bigram[0][0] == '<s>'], [bigram[1] for bigram in bigram_prob if bigram[0][0] == '<s>'])[0]\n",
    "    sentence = [initial_bigram]\n",
    "    while sentence[len(sentence) - 1][1] != '</s>':\n",
    "        possible_bigram = []\n",
    "        for bigram in bigram_prob:\n",
    "            if bigram[0][0] == sentence[len(sentence) - 1][1]:\n",
    "                possible_bigram.append(bigram)\n",
    "        sentence.append(random.choices(possible_bigram, [bigram[1] for bigram in possible_bigram])[0][0])\n",
    "    final_tweets.append(sentence)\n",
    "\n",
    "# Print the bigram model tweets\n",
    "print(\"-------- Bigram model tweets --------\")\n",
    "for tweet in final_tweets:\n",
    "    sentence = \"\"\n",
    "    for word in tweet:\n",
    "        if word[0] == '<s>':\n",
    "            sentence += word[1] + \" \"\n",
    "        elif word[1] != '</s>':\n",
    "            sentence += word[1] + \" \"\n",
    "    print(sentence[:-1])\n",
    "print(\"-------- End of bigram model tweets --------\")\n",
    "\n",
    "final_tweets = []\n",
    "\n",
    "# Trigram model\n",
    "for i in range(50):\n",
    "    initial_trigram = random.choices([trigram[0] for trigram in trigram_prob if trigram[0][0] == '<s>' and trigram[0][1] == '<s>'], [trigram[1] for trigram in trigram_prob if trigram[0][0] == '<s>' and trigram[0][1] == '<s>'])[0]\n",
    "    sentence = [initial_trigram]\n",
    "    while sentence[len(sentence) - 1][2] != '</s>':\n",
    "        possible_trigram = []\n",
    "        for trigram in trigram_prob:\n",
    "            if trigram[0][0] == sentence[len(sentence) - 1][1] and trigram[0][1] == sentence[len(sentence) - 1][2]:\n",
    "                possible_trigram.append(trigram)\n",
    "        sentence.append(random.choices(possible_trigram, [trigram[1] for trigram in possible_trigram])[0][0])\n",
    "    final_tweets.append(sentence)\n",
    "\n",
    "# Print the trigram model tweets\n",
    "print(\"-------- Trigram model tweets --------\")\n",
    "for tweet in final_tweets:\n",
    "    sentence = \"\"\n",
    "    for word in tweet:\n",
    "        if word[1] != '<s>':\n",
    "            sentence += word[1] + \" \"\n",
    "        elif word[2] == '</s>':\n",
    "            sentence += word[1]\n",
    "    print(sentence[:-1])\n",
    "print(\"-------- End of trigram model tweets --------\")\n"
   ]
  }
 ],
 "metadata": {
  "kernelspec": {
   "display_name": ".venv",
   "language": "python",
   "name": "python3"
  },
  "language_info": {
   "codemirror_mode": {
    "name": "ipython",
    "version": 3
   },
   "file_extension": ".py",
   "mimetype": "text/x-python",
   "name": "python",
   "nbconvert_exporter": "python",
   "pygments_lexer": "ipython3",
   "version": "3.11.1"
  },
  "orig_nbformat": 4
 },
 "nbformat": 4,
 "nbformat_minor": 2
}
