{
 "cells": [
  {
   "attachments": {},
   "cell_type": "markdown",
   "metadata": {},
   "source": [
    "# Exercise 3"
   ]
  },
  {
   "attachments": {},
   "cell_type": "markdown",
   "metadata": {},
   "source": [
    "### Necessary imports"
   ]
  },
  {
   "cell_type": "code",
   "execution_count": 165,
   "metadata": {},
   "outputs": [],
   "source": [
    "from datasets import load_dataset\n",
    "import spacy\n",
    "import pandas as pd\n",
    "from nltk.wsd import lesk\n",
    "from nltk.corpus import wordnet as wn\n",
    "\n",
    "nlp = spacy.load(\"en_core_web_sm\")"
   ]
  },
  {
   "attachments": {},
   "cell_type": "markdown",
   "metadata": {},
   "source": [
    "### Dataset loading"
   ]
  },
  {
   "cell_type": "code",
   "execution_count": 40,
   "metadata": {},
   "outputs": [
    {
     "name": "stderr",
     "output_type": "stream",
     "text": [
      "Found cached dataset ag_news (C:/Users/lores/.cache/huggingface/datasets/ag_news/default/0.0.0/bc2bcb40336ace1a0374767fc29bb0296cdaf8a6da7298436239c54d79180548)\n"
     ]
    },
    {
     "data": {
      "application/vnd.jupyter.widget-view+json": {
       "model_id": "508df3ae5eb7478cbecc4206f4fc1411",
       "version_major": 2,
       "version_minor": 0
      },
      "text/plain": [
       "  0%|          | 0/2 [00:00<?, ?it/s]"
      ]
     },
     "metadata": {},
     "output_type": "display_data"
    }
   ],
   "source": [
    "df = pd.DataFrame(load_dataset(\"ag_news\")['train'])"
   ]
  },
  {
   "attachments": {},
   "cell_type": "markdown",
   "metadata": {},
   "source": [
    "### Little preprocessing"
   ]
  },
  {
   "cell_type": "code",
   "execution_count": 41,
   "metadata": {},
   "outputs": [],
   "source": [
    "# Removing \\\\ from the text\n",
    "df[\"text\"] = df[\"text\"].apply(\n",
    "    lambda x: x.replace(\"\\\\\", \" \")\n",
    ")"
   ]
  },
  {
   "attachments": {},
   "cell_type": "markdown",
   "metadata": {},
   "source": [
    "### Getting all the sentences that cointain the verb \"give\""
   ]
  },
  {
   "cell_type": "code",
   "execution_count": 94,
   "metadata": {},
   "outputs": [],
   "source": [
    "# Get number of sentences that contain the transitive verb \"give\"\n",
    "sentences = []\n",
    "for row in df['text']:\n",
    "    if \" give \" in row:\n",
    "        sentences.append(row)"
   ]
  },
  {
   "attachments": {},
   "cell_type": "markdown",
   "metadata": {},
   "source": [
    "### Finding all the objects and subjects of the verb \"give\""
   ]
  },
  {
   "cell_type": "code",
   "execution_count": 129,
   "metadata": {},
   "outputs": [],
   "source": [
    "# I find all the objects and subjects of the verb \"give\" and store them in a pandas dataframe\n",
    "corpus_nan = pd.DataFrame(columns=['object', 'subject', 'obj_pos', 'subj_pos', 'sentence'])\n",
    "for sentence in sentences:\n",
    "    doc = nlp(sentence)\n",
    "    obj = None\n",
    "    subj = None\n",
    "    obj_pos = None\n",
    "    subj_pos = None\n",
    "    for token in doc:\n",
    "        if token.text == \"give\" and token.pos_ == 'VERB':\n",
    "            for child in token.children:\n",
    "                if child.dep_ in [\"dobj\", \"pobj\"] and obj is None:\n",
    "                    obj = child.lemma_.lower()\n",
    "                    obj_pos = child.pos_\n",
    "                if child.dep_ in [\"nsubj\", \"nsubjpass\", \"csubj\", \"csubjpass\"] and subj is None:\n",
    "                    subj = child.lemma_.lower()\n",
    "                    subj_pos = child.pos_\n",
    "    corpus_nan.loc[len(corpus_nan)] = [obj, subj, obj_pos, subj_pos, sentence]\n",
    "\n",
    "corpus = corpus_nan[~corpus_nan.isnull().any(axis=1)]"
   ]
  },
  {
   "attachments": {},
   "cell_type": "markdown",
   "metadata": {},
   "source": [
    "### Get the synsets of the objects and subjects"
   ]
  },
  {
   "cell_type": "code",
   "execution_count": 190,
   "metadata": {},
   "outputs": [],
   "source": [
    "# I find the synsets of the objects and subjects for each sentence and store them in a pandas dataframe\n",
    "person = [\"i\", \"you\", \"he\", \"she\", \"we\", \"they\", \"me\", \"him\", \"her\", \"his\", \"them\", \"someone\", \"us\", \"people\", \"anyone\"]\n",
    "\n",
    "synsets = pd.DataFrame(columns=['object', 'subject', 'obj_synset', 'subj_synset', 'sentence'])\n",
    "for subj, subj_pos, obj, obj_pos, sentence in zip(corpus['subject'], corpus['subj_pos'], corpus['object'], corpus['obj_pos'], corpus['sentence']):\n",
    "    subj_synset = None\n",
    "    obj_synset = None\n",
    "    if subj in person:\n",
    "        subj_synset = 'person'\n",
    "    if obj in person:\n",
    "        obj_synset = 'person'\n",
    "        \n",
    "    # If the synset is not found, I use the lesk algorithm to find it\n",
    "    if subj_synset is None:\n",
    "        if subj_pos == 'NOUN':\n",
    "            subj_synset = lesk(sentence, subj, 'n')\n",
    "        elif subj_pos == 'VERB':\n",
    "            subj_synset = lesk(sentence, subj, 'v')\n",
    "        elif subj_pos == 'ADJ':\n",
    "            subj_synset = lesk(sentence, subj, 'a')\n",
    "        elif subj_pos == 'ADV':\n",
    "            subj_synset = lesk(sentence, subj, 'r')\n",
    "        else:\n",
    "            subj_synset = lesk(sentence, subj)\n",
    "\n",
    "    if obj_synset is None:\n",
    "        if obj_pos == 'NOUN':\n",
    "            obj_synset = lesk(sentence, obj, 'n')\n",
    "        elif obj_pos == 'VERB':\n",
    "            obj_synset = lesk(sentence, obj, 'v')\n",
    "        elif obj_pos == 'ADJ':\n",
    "            obj_synset = lesk(sentence, obj, 'a')\n",
    "        elif obj_pos == 'ADV':\n",
    "            obj_synset = lesk(sentence, obj, 'r')\n",
    "        else:\n",
    "            obj_synset = lesk(sentence, obj)\n",
    "    \n",
    "    # Get the supersense of the synsets\n",
    "    if subj_synset is not None and type(subj_synset) is not str:\n",
    "        subj_synset = subj_synset.lexname().split('.')[1]\n",
    "    if obj_synset is not None and type(obj_synset) is not str:\n",
    "        obj_synset = obj_synset.lexname().split('.')[1]\n",
    "    synsets.loc[len(synsets)] = [obj, subj, obj_synset, subj_synset, sentence]\n",
    "\n",
    "synsets = synsets[~synsets.isnull().any(axis=1)]"
   ]
  },
  {
   "attachments": {},
   "cell_type": "markdown",
   "metadata": {},
   "source": [
    "### Get the percentage of synsets"
   ]
  },
  {
   "cell_type": "code",
   "execution_count": 243,
   "metadata": {},
   "outputs": [
    {
     "name": "stdout",
     "output_type": "stream",
     "text": [
      "---------------------------------------------------\n",
      "Percentage of synsets for each pair of subject and object\n",
      "---------------------------------------------------\n",
      "\"person, communication\": 8.97%\n",
      "\"person, act\": 5.38%\n",
      "\"person, cognition\": 3.14%\n",
      "\"person, artifact\": 3.14%\n",
      "\"cognition, communication\": 2.69%\n",
      "\"person, person\": 2.24%\n",
      "\"person, all\": 2.24%\n",
      "\"person, attribute\": 2.24%\n",
      "\"communication, act\": 2.24%\n",
      "\"person, state\": 1.79%\n",
      "\"person, event\": 1.79%\n",
      "\"group, act\": 1.79%\n",
      "\"group, attribute\": 1.79%\n",
      "\"artifact, cognition\": 1.79%\n",
      "\"cognition, act\": 1.79%\n",
      "\"artifact, act\": 1.35%\n",
      "\"cognition, quantity\": 1.35%\n",
      "\"animal, attribute\": 1.35%\n",
      "\"act, person\": 1.35%\n",
      "\"substance, artifact\": 1.35%\n",
      "\"person, time\": 1.35%\n",
      "\"group, person\": 1.35%\n",
      "\"cognition, state\": 1.35%\n",
      "\"artifact, possession\": 0.90%\n",
      "\"act, communication\": 0.90%\n",
      "\"cognition, cognition\": 0.90%\n",
      "\"person, group\": 0.90%\n",
      "\"artifact, communication\": 0.90%\n",
      "\"communication, communication\": 0.90%\n",
      "\"group, communication\": 0.90%\n",
      "\"person, possession\": 0.90%\n",
      "\"cognition, person\": 0.90%\n",
      "\"artifact, person\": 0.90%\n",
      "\"object, person\": 0.90%\n",
      "\"location, attribute\": 0.90%\n",
      "\"person, food\": 0.90%\n",
      "\"possession, process\": 0.90%\n",
      "\"artifact, artifact\": 0.90%\n",
      "\"group, artifact\": 0.90%\n",
      "\"act, artifact\": 0.90%\n",
      "\"group, state\": 0.90%\n",
      "\"cognition, artifact\": 0.90%\n",
      "\"communication, attribute\": 0.90%\n",
      "\"possession, possession\": 0.90%\n",
      "\"person, location\": 0.45%\n",
      "\"pert, state\": 0.45%\n",
      "\"change, state\": 0.45%\n",
      "\"group, location\": 0.45%\n",
      "\"communication, state\": 0.45%\n",
      "\"communication, person\": 0.45%\n",
      "\"contact, person\": 0.45%\n",
      "\"motion, time\": 0.45%\n",
      "\"animal, person\": 0.45%\n",
      "\"act, group\": 0.45%\n",
      "\"time, quantity\": 0.45%\n",
      "\"location, possession\": 0.45%\n",
      "\"person, quantity\": 0.45%\n",
      "\"state, person\": 0.45%\n",
      "\"location, quantity\": 0.45%\n",
      "\"Tops, phenomenon\": 0.45%\n",
      "\"all, quantity\": 0.45%\n",
      "\"artifact, phenomenon\": 0.45%\n",
      "\"event, phenomenon\": 0.45%\n",
      "\"cognition, process\": 0.45%\n",
      "\"communication, possession\": 0.45%\n",
      "\"possession, person\": 0.45%\n",
      "\"act, Tops\": 0.45%\n",
      "\"location, food\": 0.45%\n",
      "\"communication, artifact\": 0.45%\n",
      "\"contact, attribute\": 0.45%\n",
      "\"cognition, attribute\": 0.45%\n",
      "\"attribute, attribute\": 0.45%\n",
      "\"act, attribute\": 0.45%\n",
      "\"state, artifact\": 0.45%\n",
      "\"plant, artifact\": 0.45%\n",
      "\"location, artifact\": 0.45%\n",
      "\"attribute, artifact\": 0.45%\n",
      "\"all, food\": 0.45%\n",
      "\"animal, artifact\": 0.45%\n",
      "\"substance, all\": 0.45%\n",
      "\"artifact, all\": 0.45%\n",
      "\"animal, all\": 0.45%\n",
      "\"all, all\": 0.45%\n",
      "\"substance, act\": 0.45%\n",
      "\"competition, act\": 0.45%\n",
      "\"motion, attribute\": 0.45%\n",
      "\"social, attribute\": 0.45%\n",
      "\"substance, attribute\": 0.45%\n",
      "\"communication, cognition\": 0.45%\n",
      "\"feeling, feeling\": 0.45%\n",
      "\"animal, feeling\": 0.45%\n",
      "\"act, feeling\": 0.45%\n",
      "\"cognition, event\": 0.45%\n",
      "\"change, event\": 0.45%\n",
      "\"artifact, event\": 0.45%\n",
      "\"social, communication\": 0.45%\n",
      "\"shape, communication\": 0.45%\n",
      "\"phenomenon, communication\": 0.45%\n",
      "\"animal, act\": 0.45%\n",
      "\"feeling, communication\": 0.45%\n",
      "\"body, communication\": 0.45%\n",
      "\"animal, communication\": 0.45%\n",
      "\"substance, cognition\": 0.45%\n",
      "\"pert, cognition\": 0.45%\n",
      "\"stative, time\": 0.45%\n"
     ]
    }
   ],
   "source": [
    "# Group by obj_synset and subj_synset\n",
    "synsets_percentage = (synsets[[\"obj_synset\", \"subj_synset\"]].value_counts()/len(synsets)*100).reset_index(name=\"percentage\")\n",
    "\n",
    "print(\"---------------------------------------------------\")\n",
    "print(\"Percentage of synsets for each pair of subject and object\")\n",
    "print(\"---------------------------------------------------\")\n",
    "\n",
    "for row in synsets_percentage.iterrows():\n",
    "    print(f'\"{row[1][1]}, {row[1][0]}\": {row[1][2]:.2f}%')"
   ]
  }
 ],
 "metadata": {
  "kernelspec": {
   "display_name": ".venv",
   "language": "python",
   "name": "python3"
  },
  "language_info": {
   "codemirror_mode": {
    "name": "ipython",
    "version": 3
   },
   "file_extension": ".py",
   "mimetype": "text/x-python",
   "name": "python",
   "nbconvert_exporter": "python",
   "pygments_lexer": "ipython3",
   "version": "3.11.1"
  },
  "orig_nbformat": 4
 },
 "nbformat": 4,
 "nbformat_minor": 2
}
