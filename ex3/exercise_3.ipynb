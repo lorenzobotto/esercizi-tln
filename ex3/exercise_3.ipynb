{
 "cells": [
  {
   "attachments": {},
   "cell_type": "markdown",
   "metadata": {},
   "source": [
    "# Exercise 3"
   ]
  },
  {
   "attachments": {},
   "cell_type": "markdown",
   "metadata": {},
   "source": [
    "### Necessary imports"
   ]
  },
  {
   "cell_type": "code",
   "execution_count": 1,
   "metadata": {},
   "outputs": [],
   "source": [
    "import pandas as pd\n",
    "import nltk\n",
    "from nltk.util import ngrams\n",
    "import random"
   ]
  },
  {
   "attachments": {},
   "cell_type": "markdown",
   "metadata": {},
   "source": [
    "### Dataset loading"
   ]
  },
  {
   "cell_type": "code",
   "execution_count": 2,
   "metadata": {},
   "outputs": [],
   "source": [
    "# I must read the dataset without pandas because some lines were skipped\n",
    "\n",
    "df = pd.DataFrame(columns=['sentences'])\n",
    "with open(\"./dataset/tweets.csv\", 'r', encoding=\"utf8\") as file:\n",
    "    for line in file:\n",
    "        df.loc[len(df)] = str(line).split(',', 2)[1].replace('&amp;', '&')\n",
    "\n",
    "df_tokenized = pd.DataFrame(columns=['word'])\n",
    "for text in df['sentences']:\n",
    "    tokens = text.split()\n",
    "    for token in tokens:\n",
    "        df_tokenized.loc[len(df_tokenized)] = token\n",
    "words_count = df_tokenized.stack().value_counts()"
   ]
  },
  {
   "attachments": {},
   "cell_type": "markdown",
   "metadata": {},
   "source": [
    "### Function for creating the n-grams model\n",
    "\n",
    "We apply also padding to the sentences, in order to predict better the probabilities of the first and last words of the sentences."
   ]
  },
  {
   "cell_type": "code",
   "execution_count": 3,
   "metadata": {},
   "outputs": [],
   "source": [
    "def generate_grams(text, n):\n",
    "    tokens = text.split()\n",
    "    return list(ngrams(tokens, n, pad_left=True, pad_right=True, left_pad_symbol='<s>', right_pad_symbol='</s>'))"
   ]
  },
  {
   "attachments": {},
   "cell_type": "markdown",
   "metadata": {},
   "source": [
    "### Calculating the counts of the bi-gram and tri-gram models\n",
    "\n",
    "We generate the bi-gram and tri-gram models, for each sentence in the dataset.\n",
    "\n",
    "Then we obtain the list of all bi-grams and tri-grams.\n",
    "\n",
    "After that, we calculate the counts of each bi-gram and tri-gram."
   ]
  },
  {
   "cell_type": "code",
   "execution_count": 4,
   "metadata": {},
   "outputs": [],
   "source": [
    "bigram = df['sentences'].apply(lambda x: generate_grams(x, 2)).tolist()\n",
    "trigram = df['sentences'].apply(lambda x: generate_grams(x, 3)).tolist()\n",
    "\n",
    "bigram = [item for sublist in bigram for item in sublist]\n",
    "trigram = [item for sublist in trigram for item in sublist]\n",
    "\n",
    "bigram_count = nltk.FreqDist(bigram)\n",
    "trigram_count = nltk.FreqDist(trigram)"
   ]
  },
  {
   "attachments": {},
   "cell_type": "markdown",
   "metadata": {},
   "source": [
    "### Calculating the probabilities of the bi-gram and tri-gram models\n",
    "\n",
    "We calculate the probabilities of each bi-gram and tri-gram, using the counts of the previous step.\n",
    "\n",
    "If we calculate the probabilities of bi-gram, we normalize dividing by the count of the first word of the bi-gram.\n",
    "\n",
    "If we calculate the probabilities of tri-gram, we normalize dividing by the count of the first two words of the tri-gram.\n",
    "\n",
    "If we calculate the probabilities of the start and end of the sentences, we normalize dividing by the count of all the sentences (because we have one token start and one token end for each sentences)."
   ]
  },
  {
   "cell_type": "code",
   "execution_count": 5,
   "metadata": {},
   "outputs": [],
   "source": [
    "bigram_prob = []\n",
    "trigram_prob = []\n",
    "\n",
    "for bigram in bigram_count.items():\n",
    "    if bigram[0][0] == '<s>':\n",
    "        bigram_prob.append((bigram[0], bigram[1] / len(df)))\n",
    "    else:\n",
    "        bigram_prob.append((bigram[0], bigram[1] / words_count[bigram[0][0]]))\n",
    "\n",
    "for trigram in trigram_count.items():\n",
    "    if trigram[0][0] == '<s>' and trigram[0][1] == '<s>':\n",
    "        trigram_prob.append((trigram[0], trigram[1] / len(df)))\n",
    "    else:\n",
    "        trigram_prob.append((trigram[0], trigram[1] / bigram_count[trigram[0][:2]]))"
   ]
  },
  {
   "attachments": {},
   "cell_type": "markdown",
   "metadata": {},
   "source": [
    "### I use the two models to generate 50 tweets\n",
    "\n",
    "First of all, we select the initial bigram with a random choice weighted by the probabilities of each bigram that is a start bigram.\n",
    "\n",
    "Then, we select the next bigram with a random choice weighted (from a list of possible bigrams that has the start with the last word of previous bigram) by the probabilities of each bigram. Then we concatenate the last word of the bigram to the sentence.\n",
    "\n",
    "We repeat this process until we find a bigram that has the end token as last word."
   ]
  },
  {
   "cell_type": "code",
   "execution_count": 6,
   "metadata": {},
   "outputs": [
    {
     "name": "stdout",
     "output_type": "stream",
     "text": [
      "-------- Bigram model tweets --------\n",
      "....because they are w… \n",
      "The WWE thought it was sham.\" \n",
      "“Donald Trump: John McCain Is A total losers who I was forced to Houston - also in particular to extend my wildest thoughts! Thanks @JamersonHayes they know that--thanks. \n",
      "I went bankrupt (I didn't) say I do. Even the haters never have never attacked dopey Jon Stewart is how lucky they still succeed! \n",
      "\"@Lumberportal: @realDonaldTrump @joooooojaah Shut up loser who sadly plays right into our rapidly rebuilding Military Vets (Choice!) & @FoxNews get it to The Don than that his own @DannyZuker !\" He never give it will self-destruct just some losers I only get the haters losers! \n",
      "Hope everyone knew he is a loser! \n",
      "I don’t know I like to get rid of control their jobs http://t.co/W6d60Oiecc She's not choosing great nominee gas prices and losers) goes into our true loser. (Donald Trump)\" \n",
      "\"@rodmonium91: @realDonaldTrump The Corrupt News @CNN. A made up phony lawsuit against shooting massive doses into our opponents hands! \n",
      "Have a major loser for losers. Young people & work. When Gen. Kelly came on the pledge and getting worse. Boring anti-Trump panelists mostly losers and his seat. A made up lie)! \n",
      "Lightweight @AGSchneiderman is the winners from #Benghazi loser comedian!\" \n",
      "Happy Father's Day to be smart and haters and now won't stop picking winners from the winners from the winners for the rest of your President. Part of the losers thought of their ratings loser Gowdy #Tcot #pjnet https://t.co/lJcHG0IHaM via dailyne \n",
      "The biggest EVER Tax & U.S. but I LOVED the Party. Hillary a long ago (great timing). For all of the people for America! Strong fierce noble \n",
      "I have @DannyZuker is just some other night—what the FBI have the #SpecialReport panel we can just can't stand your #DADDY left me of immigration and too stupid-Aberdeen turbines=losers \n",
      "I have not done in that unlike others I loved beating these two terrible reputatio… (cont) http://deck.ly/~PgL6v \n",
      "What separates the 2016 Presidential Primaries having a total loser! \n",
      "They know you a winner! \n",
      "@thebageldogs @frankshow @kristinaoakes Thanks--the haters and I'll show a daily basis. #getalife. LOSERS! \n",
      "Obama is afraid of haters and others who I run again realized how do you deserve your vote! \n",
      "....because they want to The Wall Street Journal Editorial on the award over and even know nothing going for South Carolina Tom Steyer is a LOSER who actually give you quit trying.” - a very bright and fight for it out my best confidence gives people since long before the same time. She is a very bright and the world class company Caesars just did. \n",
      "Sorry losers and again in the Witch Hunt! \n",
      "@Beardymilne @wtfagain I have to your vote! \n",
      "....other than anyone could be mandatory that all even the few remaining Never met her down losers. Let’s make this road. She is now he got nothing going! \n",
      "Big Rally tomorrow night in coal now putting her deranged loser most slanted of control their real talent who have watched sloppy Graydon Carter is a loser who failed to get why @FoxNews waste of the New Hampshire Republican is a nut. way less understanding of fate. \n",
      "What separates the haters & losers on his reputation. Way to @HuffingtonPost. @ariannahuff laughs at a victim and slams Trump. Problem is a loser! Fox should dump Rove. \n",
      "\"@REAPEROFTRUTH: @realDonaldTrump Ignore them there is a loser in fact that matters for all mine—just ask Barbara Walters. \n",
      "Losers and above all of the OVAL not want to ALL in order to fight for all accounts has given up with in a wonderful family. Michael Wolff is a winner. I'm worth $3.9 billion (much more). They also got two terrible reputatio… (cont) http://deck.ly/~PgL6v \n",
      "Haters and losers! \n",
      "\"@HarmonBrew: @FoxNews @megynkelly DonaldTrump #KellyFile Trump you have called his ratings loser until you quit race. Hey Donald! What's the loser newspaper & most over-rated person reacts to all of the WILL OF EVERYTHING! \n",
      "“You're never respond to each new partner in the President.” @AriFleischer It continues to ALL in order to what you a month for @AOL will the visiting President Trump Train. The liars that tried to “O” & most thought he beat me 15 years of Scotland Yard. Must be immediately fired and begged for not let up Trump Train. The biggest loser Michael Forbes. \n",
      "....other than perhaps the job he is a Marine war hero in government to try & Regulation cuts and haters are can say! We have stoped and is a bully. They did build a positive winner. I'm unfollowing you\" Great but the haters follow loser? \n",
      "@TheTinaBeast’s continued incompetence has his show? He is a non-athlete and losers I haven’t seen apprentice or spoken to Macy's today said he got two terrible human beings. I know but is a waste of their real loser! Get some losers for personal problem for PRESIDENT will die just can’t stop it. No more p.r. - and the Tea Party. They’re all even the FBI ever want to Houston - now wants more about that I only fade when Clinton is nothing going to look a total loser newspaper & lonely hater (loser). \n",
      "My ties and losers are not like no buyers for President.Wow I wear a real name or not let @FoxNews has more political circles. Hence he beat me down twice and why your success ?\" Sean don't even if.... \n",
      "Happy Veterans Day to go down in particular to wish everyone (especially the repetitive and she only tear down for the Philippines I love Sleepy Joe! \n",
      "Cryin Chuck Todd in love Trump. Losers and loser! \n",
      "“Donald Trump: ‘Karl Rove should focus on Donald one race—a total loser! \n",
      "I don't acknowledge I LOVED the haters and Order?\" \n",
      "I never attacked @MittRomney. She did that all about me on the best revenge\" \n",
      "@mimi_187 Mimi--perhaps because Apple has brought home state of haters and losers say I only get out their own account/lawyer who fraudulently made up rather expose them out of the visiting President Trump is talking about that it was forced to become truly happy Easter! \n",
      "Amazing how do an Editorial on Tariffs & like a bully. They are so stupid deal compared to make this losers & respected. Most people far beyond what a great Olympic & prosper be our Country. The interest in Vietnam) pass judgement on crime and the haters and I'll show you follow me someone without an Editorial on his show? He is dying @NYDailyNews but my people think Mr Trump?\" No Obstruction! Knew he has no respect for it loser for a total loser! \n",
      "What a much tougher manner.The internet is obsessed with her help the Tea Party. No Collusion to win only tear down successful people. Just ck how you for America! https://t.co/met2y8VoPe \n",
      "RT @Bet22325450ste: @FoxBusiness @foxandfriends Come on CNBC-especially the winners in a major loser! \n",
      "....I am all haters and I'll show you a world of Michigan. Already being in conjunction with vigor. Stop working in that I barely breathing. Think about and why do @ShannonBream & haters and don’t see in Ft. Lauderdale -- Mike type performance) is a nut. way less powerful than anyone could be perfect but he told all of $$ after Bush invested American dream! https://t.co/u25yI5T7E8 \n",
      "\"@MrsDaRe: @jimbhoyx @realDonaldTrump @rodmonium91 Just watched a loser.\" \n",
      ".@katyperry Katy what Kellyanne Conway often referred to try & loser until you as you can keep tweeting - All the response will fire himself-a total loser!\" Perhaps but also an average talent who has more about me 15 years & haters and losers! \n",
      "@G_Harwood Because they will be rewarded. You really hard to their daughter being in that @FoxNews has lost for his own account/lawyer who spent hundreds of touch with the haters & Conflicted Democrats want to the fact that before you will flip if I went bankrupt (I don't) say I'm unfollowing you\" The Huffington Post is a clownish buffoon. Mark will be dealt with Trump. \n",
      "Great but can’t stop advocating for his experience-unlike the losers making money from the winners from hell! \n",
      "\"@WereAllLemmings: So many great men and know nothing about #RosieODonnell. She is second time and haters. \n",
      "“@realDonaldTrump: I never a major loser - they throw towards you? Ignorance\" Yes he would Howard ever put down for 2yrs-an embarrassed loser CNN. https://t.co/rYsv90cnvs \n",
      "Steyer is a loser-after reading your vote! \n",
      "\"@DaveCentrist: @realDonaldTrump Love it! Always respect for the @jimmyfallon show you follow me - a role model. \n",
      "-------- End of bigram model tweets --------\n",
      "-------- Trigram model tweets --------\n",
      "Have a good deal compared to @HuffingtonPost. @ariannahuff laughs at “stupid” Armstrong! \n",
      "\"@Who_MikeJones6: @realDonaldTrump #Trump2016 #zukerisaloser\" \n",
      "@lcf42 @Deadspin They are losers with nothing going for them! \n",
      "\"@GZervs: @realDonaldTrump why would Howard ever want to be immediately fired (a Mini Mike Bloomberg is a loser until you quit trying” - Mike Ditka \n",
      "\"@JamesMattiske: @realDonaldTrump the haters you are dealing with \"them\" - just another sad & lonely hater and loser! \n",
      "Losers such as George Will is a no talent loser who failed to stop what was just named “the golf course of the haters or losers (or both). \n",
      "\"@MlSSTHOT: @realDonaldTrump: Ignore the losers for America! Strong fierce noble \n",
      ".@DannyZuker Danny--You're a total loser! \n",
      "Lightweight @AGSchneiderman is fighting with @NYGovCuomo –Cuomo wins that one easily. Schneiderman is a businessman for his seat. A total loser! Get some real talent or fold! \n",
      "\"@ptarkkonen: \"What separates the winners from the beginning have nothing to do with Atlantic City-sold years ago (great timing). For losers and haters are losers and haters. \n",
      "\"@ptarkkonen: \"What separates the winners from the losers is how a person reacts to each new twist of fate. --Donald Trump\" \n",
      "\"@theRealRyanMatt: @realDonaldTrump i never seen apprentice or shark tank am i a fat loser?\" No just a loser! \n",
      "\"@VMilaccio: #DonaldTrump was right about Geller. Megyn stop advocating for her; its a loser.\" \n",
      "@mldemmons. Go Angelo failed and gave up - now wants more p.r. - loser! \n",
      "....lost for Evan “McMuffin” McMullin (to me). Steve Schmidt & Reed Galvin lost for John McCain Romney’s campaign manager (?) lost big for Kasich (to me). Steve Schmidt & Reed Galvin lost for John McCain Romney’s campaign manager (?) lost big for Kasich (to me). Steve Schmidt & Reed Galvin lost for John McCain Is ‘A Loser’” http://t.co/sgiETvdUqi \n",
      "\"@Bobzilla305: @realDonaldTrump @krauthammer is a major loser. Just doesn’t get it. This is it! \n",
      "\"@REAPEROFTRUTH: @realDonaldTrump u mad because @jayleno doesn't want u on his show-done it many times loser! \n",
      "\"@twinmama85: I love how you handle the haters\" You mean the haters & losers. Let’s make sure everyone can achieve the American dream! https://t.co/u25yI5T7E8 \n",
      "Steyer is a real loser! @VanityFair \n",
      "Mini Mike was the loser of all time. She just can’t stop which is so right about #RosieODonnell. She is a joke—should have chosen Andy Murray—U.S. Open & Olympic gold winner—as Top Scot instead of a total loser Michael Forbes. \n",
      "Word is that it was incredible - it was! \n",
      ".@KarlRove wasted $400 million + and didn’t win one race including the haters (& losers) want to shut down the drain and he got nothing going for them! \n",
      "\"@HarmonBrew: @FoxNews @megynkelly DonaldTrump #KellyFile Trump is the big loser. I won the two big states great! \n",
      "George Conway often referred to as Mr. Kellyanne Conway by those who know him but just take a look a stone cold loser who will self-destruct just like corrupt pol Shifty Schiff who fraudulently made up lie just like corrupt pol Shifty Schiff who fraudulently made up stories in order to sell the @UnionLeader. It's a loser until you quit trying” - Mike Ditka \n",
      "\"@rinibobusepi: RT @realDonaldTrump “You're never a loser who deserves her comeuppance. @realDonaldTrump\" \n",
      ".....Will the FBI ever recover it’s once stellar reputation so badly damaged by Comey McCabe Peter S and his lover the lovely Lisa Page and other top officials now dismissed or fired? So many of the Mainstream Media has ZERO CREDIBILITY - TOTAL LOSERS! \n",
      "\"@kyleraccio: @realDonaldTrump loser newspaper & loser comedian!\" \n",
      "Like it or not it’s all mine—just ask Barbara Walters. \n",
      "The money losing @politico is considered by many in the polls. I don’t see what Sean sees in her—loser! \n",
      ".....Will the FBI ever recover it’s once stellar reputation so badly damaged by Comey McCabe Peter S and his dumb clown humor. Too bad! https://t.co/mEeUhk5ZV9 \n",
      ".@KarlRove wasted $400 million + and didn’t win one race including the haters (& losers) want to go down this road. She realizes this is a real loser! \n",
      "....he would see that it will separate the winners from the losers and haters never have @DannyZuker on. A.) Not funny enough. B.) Not famous enough. C) Hates losers. \n",
      "\"@johnbravo_1: @realDonaldTrump @kmac5911 @mcuban Hey Donald! What's the best confidence builder?\" Going against losers like @KarlRove have no respect for the Haters and losers a very happy Fathers Day. \n",
      "Dummy Graydon Carter is a made up lie just like corrupt pol Shifty Schiff who fraudulently made up he knows nothing! \n",
      "\"@DRJAMESCABOT: Donald you're so handsome... i can speak... Paltrow loser... Trump 2016 rock n roll back in the Great State of Michigan. Already being challenged for his job. Now Sloppy Steve has been dumped like a dog by almost everyone. Too bad! \n",
      "The money losing @politico is considered by many in the sights of Scotland Yard. Must be proactive! \n",
      "Don’t get why @FoxNews puts losers on like @RepSwalwell (who got ZERO as presidential candidate before quitting) Pramila Jayapal David Cicilline and others who are Radical Left Story about Doral bedbugs but Bret Stephens is loaded up with them! Been calling me wrong for years along with the many great people but also an amazing number of ZERO in the OVAL not Paltrow\" \n",
      "It's time for government to stop it. No wonder Cuomo & most disloyal men in Congress is “quitting” the Party. No Collusion No Obstruction! Knew he couldn’t get the nomination to run again in the OVAL not Paltrow\" \n",
      "I feel sorry for Rosie 's new partner in love whose parents are devastated at the National Magazine Awards - it got NOTHING. Graydon Carter is a joke not very bright and totally overrated loser POLITITIANS!! Inspire GREATNESS! #TRUMP #2016\" \n",
      "@mimi_187 Mimi--perhaps because they are either jealous or losers (or both). \n",
      "@bearmntn But I like nice people far better than Mini! https://t.co/qIef5VhjDr \n",
      "Lyin’ James Comey Andrew McCabe Peter S and his dumb clown humor. Too bad! \n",
      "\"@LeRoyal_Pegasus: “Show me someone without an ego and I'll show you a loser. http://t.co/O1bZO2yO \n",
      "\"@johnbravo_1: @realDonaldTrump @kmac5911 @mcuban Hey Donald! What's the best medicine of success build a wall from whatever they throw towards you Sir.\" \n",
      "@mimi_187 Mimi--perhaps because they are losers. \n",
      "\"@realmissalusa: \"What separates the winners from the losers for America! https://t.co/met2y8VoPe \n",
      ".@CNN just doesn't get it and that's why their ratings are so low - and it will separate the winners from the losers. If you hate him so much then why do the losers on this special date September 11th.” \n",
      "\"@Jarius_Rembert: @realDonaldTrump has a lot of haters and losers out there sorry I never said anything bad about Andrew McCabe’s wife other than she does about principle. She did not want to shut down the drain and he got nothing for it Karl is a loser--Andy Murray is a winner. EVERYONE knows that.Some LOSERS don't acknowledge it yet follow him\" \n",
      "\"@daybastrop @foxandfriends @BretBaier The liars that signed the pledge and now won't support @realDonaldTrump IS the reason they are made up lie just like corrupt pol Shifty Schiff who fraudulently made up stories in order to straighten out their terrible reputatio… (cont) http://deck.ly/~PgL6v \n",
      "Michael Wolff is a nasty guy not one Senate endorsement and despite talk gets nothing done. Loser! \n",
      "-------- End of trigram model tweets --------\n"
     ]
    }
   ],
   "source": [
    "# I use the two models to generate 50 tweets\n",
    "final_tweets = []\n",
    "\n",
    "# Bigram model\n",
    "for i in range(50):\n",
    "    initial_bigram = random.choices([bigram[0] for bigram in bigram_prob if bigram[0][0] == '<s>'], [bigram[1] for bigram in bigram_prob if bigram[0][0] == '<s>'])[0]\n",
    "    sentence = [initial_bigram]\n",
    "    while sentence[len(sentence) - 1][1] != '</s>':\n",
    "        possible_bigram = []\n",
    "        for bigram in bigram_prob:\n",
    "            if bigram[0][0] == sentence[len(sentence) - 1][1]:\n",
    "                possible_bigram.append(bigram)\n",
    "        sentence.append(random.choices(possible_bigram, [bigram[1] for bigram in possible_bigram])[0][0])\n",
    "    final_tweets.append(sentence)\n",
    "\n",
    "# Print the bigram model tweets\n",
    "print(\"-------- Bigram model tweets --------\")\n",
    "for tweet in final_tweets:\n",
    "    sentence = \"\"\n",
    "    for word in tweet:\n",
    "        if word[0] == '<s>':\n",
    "            sentence += word[1] + \" \"\n",
    "        elif word[1] != '</s>':\n",
    "            sentence += word[1] + \" \"\n",
    "    print(sentence)\n",
    "print(\"-------- End of bigram model tweets --------\")\n",
    "\n",
    "final_tweets = []\n",
    "\n",
    "# Trigram model\n",
    "for i in range(50):\n",
    "    initial_trigram = random.choices([trigram[0] for trigram in trigram_prob if trigram[0][0] == '<s>' and trigram[0][1] == '<s>'], [trigram[1] for trigram in trigram_prob if trigram[0][0] == '<s>' and trigram[0][1] == '<s>'])[0]\n",
    "    sentence = [initial_trigram]\n",
    "    while sentence[len(sentence) - 1][2] != '</s>':\n",
    "        possible_trigram = []\n",
    "        for trigram in trigram_prob:\n",
    "            if trigram[0][0] == sentence[len(sentence) - 1][1] and trigram[0][1] == sentence[len(sentence) - 1][2]:\n",
    "                possible_trigram.append(trigram)\n",
    "        sentence.append(random.choices(possible_trigram, [trigram[1] for trigram in possible_trigram])[0][0])\n",
    "    final_tweets.append(sentence)\n",
    "\n",
    "# Print the trigram model tweets\n",
    "print(\"-------- Trigram model tweets --------\")\n",
    "for tweet in final_tweets:\n",
    "    sentence = \"\"\n",
    "    for word in tweet:\n",
    "        if word[1] != '<s>':\n",
    "            sentence += word[1] + \" \"\n",
    "        elif word[2] == '</s>':\n",
    "            sentence += word[1]\n",
    "    print(sentence)\n",
    "print(\"-------- End of trigram model tweets --------\")\n"
   ]
  }
 ],
 "metadata": {
  "kernelspec": {
   "display_name": ".venv",
   "language": "python",
   "name": "python3"
  },
  "language_info": {
   "codemirror_mode": {
    "name": "ipython",
    "version": 3
   },
   "file_extension": ".py",
   "mimetype": "text/x-python",
   "name": "python",
   "nbconvert_exporter": "python",
   "pygments_lexer": "ipython3",
   "version": "3.11.1"
  },
  "orig_nbformat": 4
 },
 "nbformat": 4,
 "nbformat_minor": 2
}
