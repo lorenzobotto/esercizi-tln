{
 "cells": [
  {
   "attachments": {},
   "cell_type": "markdown",
   "metadata": {},
   "source": [
    "# Exercise 4"
   ]
  },
  {
   "attachments": {},
   "cell_type": "markdown",
   "metadata": {},
   "source": [
    "### Necessary imports"
   ]
  },
  {
   "cell_type": "code",
   "execution_count": null,
   "metadata": {},
   "outputs": [],
   "source": [
    "import os\n",
    "from sklearn.feature_extraction.text import CountVectorizer\n",
    "import numpy as np\n",
    "from sklearn.model_selection import train_test_split\n",
    "from scipy.spatial import distance\n",
    "from sklearn.metrics import accuracy_score, f1_score, precision_score, recall_score\n",
    "from sklearn.metrics import ConfusionMatrixDisplay\n",
    "import matplotlib.pyplot as plt\n",
    "import random\n",
    "import warnings\n",
    "from sklearn.preprocessing import Normalizer"
   ]
  },
  {
   "attachments": {},
   "cell_type": "markdown",
   "metadata": {},
   "source": [
    "### Dataset loading"
   ]
  },
  {
   "cell_type": "code",
   "execution_count": 7,
   "metadata": {},
   "outputs": [],
   "source": [
    "directory = 'dataset/20_NGs_400'\n",
    "list_of_vectors = []\n",
    "\n",
    "for filenames in os.listdir(directory):\n",
    "    for file in os.listdir(directory + \"/\" + filenames):\n",
    "        f = open(directory + \"/\" + filenames + \"/\" + file, \"r\")\n",
    "        list_of_vectors.append(f.read())"
   ]
  },
  {
   "attachments": {},
   "cell_type": "markdown",
   "metadata": {},
   "source": [
    "### Creating the FVM with CountVectorizer and target list"
   ]
  },
  {
   "cell_type": "code",
   "execution_count": 36,
   "metadata": {},
   "outputs": [],
   "source": [
    "vectorizer = CountVectorizer(stop_words='english')\n",
    "vectors_dataset = vectorizer.fit_transform(list_of_vectors)\n",
    "\n",
    "target = []\n",
    "for i in range(20):\n",
    "    for j in range(20):\n",
    "        target.append(i)"
   ]
  },
  {
   "cell_type": "code",
   "execution_count": 37,
   "metadata": {},
   "outputs": [],
   "source": [
    "def count_doc_positives(target:list, target_class:int) -> int:\n",
    "    return target.count(target_class)"
   ]
  },
  {
   "attachments": {},
   "cell_type": "markdown",
   "metadata": {},
   "source": [
    "### Defining the rocchio method for obtaining the vector of features for each classes"
   ]
  },
  {
   "cell_type": "code",
   "execution_count": 38,
   "metadata": {},
   "outputs": [],
   "source": [
    "def rocchio_method(train:list, target:list, num_class:int, beta:int, gamma:int) -> list:\n",
    "    c = []\n",
    "    for i in range(num_class):\n",
    "        pos = []\n",
    "        neg = []\n",
    "        pos_word_num = []\n",
    "        neg_word_num = []\n",
    "        for index, x in enumerate(train):\n",
    "            if(target[index] == i):\n",
    "                pos.append(x)\n",
    "            else:\n",
    "                neg.append(x)\n",
    "    \n",
    "        positive_examples = count_doc_positives(target, i)\n",
    "        negative_examples = len(target) - positive_examples\n",
    "        \n",
    "        pos_word_num = np.array([sum(x) for x in zip(*pos)]) / positive_examples\n",
    "        neg_word_num = np.array([sum(x) for x in zip(*neg)]) / negative_examples\n",
    "\n",
    "        c.append((beta * (pos_word_num)) - (gamma * neg_word_num))\n",
    "    return c"
   ]
  },
  {
   "attachments": {},
   "cell_type": "markdown",
   "metadata": {},
   "source": [
    "### Defining the function for predicting the class of a document, comparing the cosine similarity of the document with the vectors of profiles given by Rocchio Method"
   ]
  },
  {
   "cell_type": "code",
   "execution_count": 115,
   "metadata": {},
   "outputs": [],
   "source": [
    "def predict_rocchio(profiles:list, test:list, target:list, misure:str) -> list:\n",
    "    prediction = []\n",
    "    best_vector = None\n",
    "    for x in test:\n",
    "        distance_misure = 100000\n",
    "        for index, proto in enumerate(profiles):\n",
    "            match misure:\n",
    "                case \"euclidean\":\n",
    "                    transformer = Normalizer()\n",
    "                    similarity = distance.euclidean(transformer.fit(x), proto)\n",
    "                    if(similarity < distance_misure):\n",
    "                        distance_misure = similarity\n",
    "                        best_vector = index\n",
    "                case \"cosine\":\n",
    "                    similarity = distance.cosine(x, proto)\n",
    "                    if(similarity < distance_misure):\n",
    "                        distance_misure = similarity\n",
    "                        best_vector = index\n",
    "                case \"angular distance\":\n",
    "                    similarity = 1 - ( np.arccos(distance.cosine(x, proto)) / np.pi )\n",
    "                    if(similarity < distance_misure):\n",
    "                        distance_misure = similarity\n",
    "                        best_vector = index\n",
    "        prediction.append(target[best_vector])\n",
    "    return prediction"
   ]
  },
  {
   "attachments": {},
   "cell_type": "markdown",
   "metadata": {},
   "source": [
    "### Splitting the dataset into training and test set and getting the profiles with Rocchio Method and the predictions for the test set"
   ]
  },
  {
   "cell_type": "code",
   "execution_count": 64,
   "metadata": {},
   "outputs": [],
   "source": [
    "X_train, X_test, y_train, y_test = train_test_split(vectors_dataset.toarray(), target, test_size=0.10, random_state=42)\n",
    "profiles = rocchio_method(X_train, y_train, 20, 16, 4)\n",
    "predict_value = predict_rocchio(profiles, X_test, y_test)"
   ]
  },
  {
   "cell_type": "code",
   "execution_count": 95,
   "metadata": {},
   "outputs": [
    {
     "name": "stdout",
     "output_type": "stream",
     "text": [
      "Accuracy Score:  0.1\n",
      "F1 Score:  0.0634920634920635\n",
      "Precision Score:  0.058823529411764705\n",
      "Recall Score:  0.10784313725490195\n"
     ]
    },
    {
     "name": "stderr",
     "output_type": "stream",
     "text": [
      "c:\\Users\\lores\\Desktop\\esercizi-radicioni\\.venv\\Lib\\site-packages\\sklearn\\metrics\\_classification.py:1344: UndefinedMetricWarning: Precision is ill-defined and being set to 0.0 in labels with no predicted samples. Use `zero_division` parameter to control this behavior.\n",
      "  _warn_prf(average, modifier, msg_start, len(result))\n"
     ]
    }
   ],
   "source": [
    "print(\"Accuracy Score: \", accuracy_score(y_test, predict_value))\n",
    "print(\"F1 Score: \", f1_score(y_test, predict_value, average='macro'))\n",
    "print(\"Precision Score: \", precision_score(y_test, predict_value, average='macro'))\n",
    "print(\"Recall Score: \", recall_score(y_test, predict_value, average='macro'))"
   ]
  },
  {
   "attachments": {},
   "cell_type": "markdown",
   "metadata": {},
   "source": [
    "### Plotting the confusion matrix for the test set"
   ]
  },
  {
   "cell_type": "code",
   "execution_count": 93,
   "metadata": {},
   "outputs": [
    {
     "data": {
      "image/png": "[encoded data removed]",
      "text/plain": [
       "<Figure size 1000x500 with 2 Axes>"
      ]
     },
     "metadata": {},
     "output_type": "display_data"
    }
   ],
   "source": [
    "fig, ax = plt.subplots(figsize=(10, 5))\n",
    "ConfusionMatrixDisplay.from_predictions(y_test, predict_value, ax=ax)\n",
    "_ = ax.set_title(\n",
    "    f\"Confusion Matrix for {len(y_test)} documents with Rocchio Method\\n\"\n",
    ")"
   ]
  },
  {
   "attachments": {},
   "cell_type": "markdown",
   "metadata": {},
   "source": [
    "### Implementing the cross validation for the dataset with 10 folds and getting the mean accuracy"
   ]
  },
  {
   "cell_type": "code",
   "execution_count": 116,
   "metadata": {},
   "outputs": [
    {
     "name": "stdout",
     "output_type": "stream",
     "text": [
      "Mean Accuracy Score:  0.11000000000000001\n",
      "Mean F1 Score:  0.07018661292268104\n",
      "Mean Precision Score:  0.06402055703107046\n",
      "Mean Recall Score:  0.0913301226923518\n"
     ]
    }
   ],
   "source": [
    "accuracy_scores = []\n",
    "f1_scores = []\n",
    "precision_scores = []\n",
    "recall_scores = []\n",
    "for i in random.sample(range(0, 10000), 10):\n",
    "    X_train, X_test, y_train, y_test = train_test_split(vectors_dataset.toarray(), target, test_size=0.10, random_state=i)\n",
    "    profiles = rocchio_method(X_train, y_train, 20, 16, 4)\n",
    "    predict_value = predict_rocchio(profiles, X_test, y_test, misure=\"cosine\")\n",
    "    accuracy_scores.append(accuracy_score(y_test, predict_value))\n",
    "    f1_scores.append(f1_score(y_test, predict_value, average='macro'))\n",
    "    precision_scores.append(precision_score(y_test, predict_value, average='macro'))\n",
    "    recall_scores.append(recall_score(y_test, predict_value, average='macro'))\n",
    "print(\"Mean Accuracy Score: \", np.mean(accuracy_scores))\n",
    "print(\"Mean F1 Score: \", np.mean(f1_scores))\n",
    "print(\"Mean Precision Score: \", np.mean(precision_scores))\n",
    "print(\"Mean Recall Score: \", np.mean(recall_scores))"
   ]
  }
 ],
 "metadata": {
  "kernelspec": {
   "display_name": "Python 3",
   "language": "python",
   "name": "python3"
  },
  "language_info": {
   "codemirror_mode": {
    "name": "ipython",
    "version": 3
   },
   "file_extension": ".py",
   "mimetype": "text/x-python",
   "name": "python",
   "nbconvert_exporter": "python",
   "pygments_lexer": "ipython3",
   "version": "3.11.2"
  },
  "orig_nbformat": 4
 },
 "nbformat": 4,
 "nbformat_minor": 2
}
