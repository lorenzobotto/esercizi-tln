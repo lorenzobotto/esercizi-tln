{
 "cells": [
  {
   "attachments": {},
   "cell_type": "markdown",
   "metadata": {},
   "source": [
    "# Exercise 4 - Part A"
   ]
  },
  {
   "attachments": {},
   "cell_type": "markdown",
   "metadata": {},
   "source": [
    "### Necessary imports"
   ]
  },
  {
   "cell_type": "code",
   "execution_count": 154,
   "metadata": {},
   "outputs": [],
   "source": [
    "from sentence_transformers import SentenceTransformer, util\n",
    "from scipy.spatial import distance\n",
    "import matplotlib.pyplot as plt\n",
    "import numpy as np\n",
    "import random"
   ]
  },
  {
   "attachments": {},
   "cell_type": "markdown",
   "metadata": {},
   "source": [
    "### Data loading"
   ]
  },
  {
   "cell_type": "code",
   "execution_count": 135,
   "metadata": {},
   "outputs": [],
   "source": [
    "sentences = []\n",
    "with open(\"data/data.txt\", \"r\") as f:\n",
    "    lines = f.read().replace(\"\\n\", \" \")\n",
    "    sentences = [line.strip() for line in lines.split(\". \") or lines.split(\".\\n\")]"
   ]
  },
  {
   "attachments": {},
   "cell_type": "markdown",
   "metadata": {},
   "source": [
    "### Obtaining the embeddings of the sentences"
   ]
  },
  {
   "cell_type": "code",
   "execution_count": 136,
   "metadata": {},
   "outputs": [],
   "source": [
    "# Bert Embeddings for each sentence\n",
    "model = SentenceTransformer('sentence-transformers/all-MiniLM-L6-v2')\n",
    "bert_embeddings_definition = model.encode(sentences, convert_to_tensor=True)"
   ]
  },
  {
   "attachments": {},
   "cell_type": "markdown",
   "metadata": {},
   "source": [
    "### Calculating the occurrence of each word in every sentence "
   ]
  },
  {
   "cell_type": "code",
   "execution_count": 137,
   "metadata": {},
   "outputs": [],
   "source": [
    "# Function for calculating three random numbers with a minimum spacing between them\n",
    "\n",
    "def spreadRandom(theRange, howMany, minSpacing):\n",
    "    while True:\n",
    "        candidate = sorted([random.randint(*theRange) for _ in range(howMany)])\n",
    "        minDiff = min([ candidate[i+1]-candidate[i] for i, _ in enumerate(candidate[:-1])])\n",
    "        if minDiff >= minSpacing:\n",
    "            return candidate"
   ]
  },
  {
   "cell_type": "code",
   "execution_count": 138,
   "metadata": {},
   "outputs": [],
   "source": [
    "model = SentenceTransformer('sentence-transformers/all-MiniLM-L6-v2')\n",
    "\n",
    "def get_bert_embedding(sentence: str) -> np.ndarray:\n",
    "    bert_embeddings_definition = model.encode(sentence, convert_to_tensor=True)\n",
    "    return bert_embeddings_definition"
   ]
  },
  {
   "cell_type": "code",
   "execution_count": 158,
   "metadata": {},
   "outputs": [],
   "source": [
    "def calculate_cosine_similarity(blocks: list) -> list:\n",
    "    blocks_embeddings = []\n",
    "    for i in range(len(blocks)):\n",
    "        block_embedding = model.encode(blocks[i], convert_to_tensor=True)\n",
    "        blocks_embeddings.append(util.torch.mean(util.cos_sim(block_embedding, block_embedding)).item())\n",
    "\n",
    "    return blocks_embeddings"
   ]
  },
  {
   "cell_type": "code",
   "execution_count": 166,
   "metadata": {},
   "outputs": [
    {
     "name": "stdout",
     "output_type": "stream",
     "text": [
      "[0.5455607175827026, 0.46367347240448, 0.18157383799552917] [0.52065110206604, 0.44959041476249695, 0.1829955130815506]\n",
      "Blocks Index:  [5, 17, 35]\n"
     ]
    }
   ],
   "source": [
    "# Separate the text into 3 blocks of random dimension\n",
    "blocks_index = spreadRandom([5, len(sentences) - 5], 3, 5)\n",
    "blocks = [sentences[0:blocks_index[0]], sentences[blocks_index[0]:blocks_index[1]], sentences[blocks_index[1]:]]\n",
    "\n",
    "changed = True\n",
    "\n",
    "while changed:\n",
    "    # Calculate the cosine similarity inside each block\n",
    "    changed = False\n",
    "    blocks_similarity = calculate_cosine_similarity(blocks)\n",
    "\n",
    "    # Calculate the cosine similarity changing the blocks\n",
    "    new_blocks_index = [x + 1 for x in blocks_index if x + 1 < len(sentences)]\n",
    "    new_blocks = [sentences[0:new_blocks_index[0]], sentences[new_blocks_index[0]:new_blocks_index[1]], sentences[new_blocks_index[1]:]]\n",
    "\n",
    "    # Calculate the cosine similarity between adjacent blocks\n",
    "    new_blocks_similarity = calculate_cosine_similarity(new_blocks)\n",
    "\n",
    "    print(blocks_similarity, new_blocks_similarity)\n",
    "\n",
    "    if new_blocks_similarity[0] > blocks_similarity[0] and new_blocks_similarity[1] > blocks_similarity[1] and new_blocks_similarity[2] > blocks_similarity[2]:\n",
    "        print(\"New Blocks Index (+1): \", new_blocks_index)\n",
    "        blocks = new_blocks\n",
    "        blocks_index = new_blocks_index\n",
    "        changed = True\n",
    "    else:\n",
    "    # Calculate the cosine similarity changing the blocks\n",
    "        new_blocks_index = [x - 1 for x in blocks_index if x - 1 < len(sentences)]\n",
    "        new_blocks = [sentences[0:new_blocks_index[0]], sentences[new_blocks_index[0]:new_blocks_index[1]], sentences[new_blocks_index[1]:]]\n",
    "        \n",
    "        new_blocks_similarity = calculate_cosine_similarity(new_blocks)\n",
    "\n",
    "        if new_blocks_similarity[0] > blocks_similarity[0] and new_blocks_similarity[1] > blocks_similarity[1] and new_blocks_similarity[2] > blocks_similarity[2]:\n",
    "            print(\"New Blocks Index (-1): \", new_blocks_index)\n",
    "            blocks = new_blocks\n",
    "            blocks_index = new_blocks_index\n",
    "            changed = True\n",
    "\n",
    "print(\"Blocks Index: \", blocks_index)"
   ]
  },
  {
   "cell_type": "code",
   "execution_count": 162,
   "metadata": {},
   "outputs": [
    {
     "name": "stdout",
     "output_type": "stream",
     "text": [
      "\n",
      "\n",
      "Association football is played in accordance with a set of rules known as the Laws of the Game\n",
      "The game is played using a spherical ball of 68â€“70 cm (27â€“28 in) circumference, known as the football (or soccer ball)\n",
      "Two teams of eleven players each compete to get the ball into the other team's goal (between the posts and under the bar),  thereby scoring a goal\n",
      "The team that has scored more goals at the end of the game is the winner; if both teams have scored an equal number of goals then the game is a draw\n",
      "Each team is led by a captain who has only one official responsibility as mandated by the Laws of the Game: to represent their team in the coin toss before kick-off or penalty kicks\n",
      "The primary law is that players other than goalkeepers may not deliberately handle the ball with their hands or arms during play, though they must use both their hands  during a throw-in restart\n",
      "Although players usually use their feet to move the ball around, they may use any part of their body (notably, \"heading\" with  the forehead) other than their hands or arms\n",
      "Within normal play, all players are free to play the ball in any direction and move  throughout the pitch, though players may not pass to teammates who are in an offside position\n",
      "During gameplay, players attempt to create goal-scoring opportunities through individual control of the ball, such as by dribbling, passing the ball to a teammate,  and by taking shots at the goal, which is guarded by the opposing goalkeeper\n",
      "Opposing players may try to regain control of the ball by intercepting a pass or through  tackling the opponent in possession of the ball; however, physical contact between opponents is restricted\n",
      "Football is generally a free-flowing game, with play stopping only when the ball has left the field of play or when play is stopped by the referee for an infringement of the rules\n",
      "After a stoppage, play recommences with a specified restart\n",
      "A player executing a slide tackle to dispossess an opponent At a professional level, most matches produce only a few goals\n",
      "\n",
      "\n",
      "For example, the 2005â€“06 season of the English Premier League produced an average of 2.48 goals per match\n",
      "The Laws of the Game do not specify any player positions other than goalkeeper, but a number of specialised roles have evolved\n",
      "Broadly, these include three main categories:  strikers, or forwards, whose main task is to score goals; defenders, who specialise in preventing their opponents from scoring; and midfielders, who dispossess the opposition and  keep possession of the ball to pass it to the forwards on their team\n",
      "Players in these positions are referred to as outfield players, to distinguish them from the goalkeeper\n",
      "These positions are further subdivided according to the area of the field in which the player spends the most time\n",
      "For example, there are central defenders and left and right  midfielders\n",
      "The ten outfield players may be arranged in any combination\n",
      "The number of players in each position determines the style of the team's play; more forwards and fewer  defenders creates a more aggressive and offensive-minded game, while the reverse creates a slower, more defensive style of play\n",
      "While players typically spend most of the game  in a specific position, there are few restrictions on player movement, and players can switch positions at any time\n",
      "The layout of a team's players is known as a formation\n",
      "Defining the team's formation and tactics is usually the prerogative of the team's manager\n",
      "Big Ben is the nickname for the Great Bell of the Great Clock of Westminster, at the north end of the Palace of Westminster in London, England, and the name is frequently  extended to refer also to the clock and the clock tower\n",
      "The official name of the tower in which Big Ben is located was originally the Clock Tower, but it was renamed  Elizabeth Tower in 2012 to mark the Diamond Jubilee of Elizabeth II\n",
      "The tower was designed by Augustus Pugin in a neo-Gothic style\n",
      "When completed in 1859, its clock was the largest and most accurate four-faced striking and chiming  clock in the world\n",
      "The tower stands 316 feet (96 m) tall, and the climb from ground level to the belfry is 334 steps\n",
      "Its base is square, measuring 40 feet (12 m)  on each side\n",
      "Dials of the clock are 22.5 feet (6.9 m) in diameter\n",
      "All four nations of the UK are represented on the tower on shields featuring a rose for England,  thistle for Scotland, shamrock for Ireland, and leek for Wales\n",
      "On 31 May 2009, celebrations were held to mark the tower's 150th anniversary\n",
      "Big Ben is the largest of the tower's five bells and weighs 13.5 long tons (13.7 tonnes; 15.1 short tons)\n",
      "It was the largest bell in the United Kingdom for 23 years\n",
      "\n",
      "\n",
      "The origin of the bell's nickname is open to question; it may be named after Sir Benjamin Hall, who oversaw its installation, or heavyweight boxing champion Benjamin Caunt\n",
      "Four quarter bells chime at 15, 30 and 45 minutes past the hour and just before Big Ben tolls on the hour\n",
      "The clock uses its original Victorian mechanism, but an electric  motor can be used as a backup\n",
      "The tower is a British cultural icon recognised all over the world\n",
      "It is one of the most prominent symbols of the United Kingdom and parliamentary democracy, and it is  often used in the establishing shot of films set in London\n",
      "The clock tower has been part of a Grade I listed building since 1970 and a UNESCO World Heritage Site since 1987\n",
      "On 21 August 2017, a four-year schedule of renovation works began on the tower\n",
      "Modifications have included adding a lift, re-glazing and repainting the clock dials, and upgrading  lighting and repairing roof tiles among other improvements\n",
      "With a few exceptions, such as New Year's Eve and Remembrance Sunday, the bells remained silent\n",
      "A circular economy (also referred to as circularity or CE) is a model of production and consumption, which involves sharing, leasing, reusing, repairing, refurbishing and recycling  existing materials and products for as long as possible\n",
      "CE aims to tackle global challenges such as climate change, biodiversity loss, waste, and pollution by emphasizing the   design-based implementation of the three base principles of the model\n",
      "The three principles required for the transformation to a circular economy are: designing out waste and   pollution, keeping products and materials in use, and regenerating natural systems.\" CE is defined in contradistinction to the traditional linear economy\n",
      "The idea and   concepts of circular economy (CE) have been studied extensively in academia, business, and government over the past ten years\n",
      "CE has been gaining popularity because it helps to   minimize emissions and consumption of raw materials, open up new market prospects and principally, increase the sustainability of consumption and improve resource efficiency\n",
      "At a government level, CE is viewed as means of combating global warming as well as a facilitator of long-term growth\n",
      "CE may geographically connect actors and resources to  stop material loops at the regional level\n",
      "In its core principle, the European Parliament defines CE as, \"a model of production and consumption, which involves sharing,  leasing, reusing, repairing, refurbishing and recycling existing materials and products as long as possible\n",
      "In this way, the life cycle of products is extended.\" In a circular economy, business models play a crucial role in enabling the shift from linear to circular processes\n",
      "Various business models have been identified that support  circularity, including product-as-a-service, sharing platforms, and product life extension models, among others\n",
      "These models aim to optimize resource utilization, reduce  waste, and create value for businesses and customers alike, while contributing to the overall goals of the circular economy\n",
      "In a linear economy, natural resources are turned into products that are ultimately destined to become waste because of the way they have been designed and manufactured\n",
      "This process is often summarized by \"take, make, waste\"\n",
      "By contrast, a circular economy aims to transition from a 'take-make-waste' approach to a more restorative and  regenerative system\n",
      "It employs reuse, sharing, repair, refurbishment, remanufacturing and recycling to create a closed-loop system, reducing the use of resource inputs and  the creation of waste, pollution and carbon emissions\n",
      "The circular economy aims to keep products, materials, equipment and infrastructure in use for longer, thus  improving the productivity of these resources\n",
      "Waste materials and energy should become input for other processes through waste valorization: either as a component for another  industrial process or as regenerative resources for nature (e.g., compost)\n",
      "The Ellen MacArthur Foundation (EMF) defines the circular economy as an industrial economy that is  restorative or regenerative by value and design\n",
      "There are many definitions of the circular economy\n",
      "Circular economy strategies can be applied at various scales, from individual products and services to entire industries and cities\n",
      "For example, industrial symbiosis is a  strategy where waste from one industry becomes an input for another, creating a network of resource exchange and reducing waste, pollution, and resource consumption\n",
      "Similarly, circular cities aim to integrate circular principles into urban planning and development, fostering local resource loops and promoting sustainable lifestyles among  their citizens.\n"
     ]
    }
   ],
   "source": [
    "# Print the paragraphs\n",
    "for block in blocks:\n",
    "    print(\"\\n\")\n",
    "    for sentence in block:\n",
    "        print(sentence)"
   ]
  }
 ],
 "metadata": {
  "kernelspec": {
   "display_name": ".venv",
   "language": "python",
   "name": "python3"
  },
  "language_info": {
   "codemirror_mode": {
    "name": "ipython",
    "version": 3
   },
   "file_extension": ".py",
   "mimetype": "text/x-python",
   "name": "python",
   "nbconvert_exporter": "python",
   "pygments_lexer": "ipython3",
   "version": "3.11.1"
  },
  "orig_nbformat": 4
 },
 "nbformat": 4,
 "nbformat_minor": 2
}
