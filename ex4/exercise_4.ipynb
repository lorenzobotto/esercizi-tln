{
 "cells": [
  {
   "attachments": {},
   "cell_type": "markdown",
   "metadata": {},
   "source": [
    "# Exercise 4"
   ]
  },
  {
   "attachments": {},
   "cell_type": "markdown",
   "metadata": {},
   "source": [
    "### Necessary imports"
   ]
  },
  {
   "cell_type": "code",
   "execution_count": 21,
   "metadata": {},
   "outputs": [],
   "source": [
    "import os\n",
    "from sklearn.feature_extraction.text import TfidfVectorizer \n",
    "from sklearn.feature_extraction.text import CountVectorizer\n",
    "from sklearn.neighbors import NearestCentroid\n",
    "import numpy as np"
   ]
  },
  {
   "attachments": {},
   "cell_type": "markdown",
   "metadata": {},
   "source": [
    "### Dataset loading"
   ]
  },
  {
   "cell_type": "code",
   "execution_count": 16,
   "metadata": {},
   "outputs": [],
   "source": [
    "directory = 'dataset/20_NGs_400'\n",
    "list_of_vectors = []\n",
    "\n",
    "for filenames in os.listdir(directory):\n",
    "    for file in os.listdir(directory + \"/\" + filenames):\n",
    "        f = open(directory + \"/\" + filenames + \"/\" + file, \"r\")\n",
    "        list_of_vectors.append(f.read())"
   ]
  },
  {
   "attachments": {},
   "cell_type": "markdown",
   "metadata": {},
   "source": [
    "### Creating the FVM with TF-IDF weighting"
   ]
  },
  {
   "cell_type": "code",
   "execution_count": 29,
   "metadata": {},
   "outputs": [],
   "source": [
    "vectorizer = CountVectorizer(stop_words='english')\n",
    "X = vectorizer.fit_transform(list_of_vectors)\n",
    "\n",
    "target = []\n",
    "for i in range(20):\n",
    "    for j in range(20):\n",
    "        target.append(i)"
   ]
  },
  {
   "cell_type": "code",
   "execution_count": 67,
   "metadata": {},
   "outputs": [],
   "source": [
    "# Profilo di una classe di documenti\n",
    "# D un seti di documenti \n",
    "# T un dizionarion con tutti le parole univoche\n",
    "# Td un vettore che per ogni parole contiene tutte le frequenze\n",
    "# centroide = somma di tutti i vettori che contengono delle parole * 1/X (dove X e in insieme di permine)\n",
    "\n",
    "# F_ki = k-features e i classe \n",
    "# W_kj = parola appartente al documento j\n",
    "\n",
    "# train [[0,1,0,...,3,2,0]]\n",
    "# target [0,0,0,0,0,...1,1,1,1,1....2,2,2,2]\n",
    "\n",
    "def rocchio_method(train:list, target:list, num_class:int, beta:int, gamma:int):\n",
    "    c = []\n",
    "    for i in range(num_class):\n",
    "        pos = []\n",
    "        neg = []\n",
    "        pos_word_num = []\n",
    "        neg_word_num = []\n",
    "        for index, x in enumerate(train):\n",
    "            if(target[index] == i):\n",
    "                pos.append(x)\n",
    "            else:\n",
    "                neg.append(x)\n",
    "        pos_word_num = np.array([sum(x) for x in zip(*pos)])\n",
    "        neg_word_num = np.array([sum(x) for x in zip(*neg)])\n",
    "\n",
    "        c.append((beta * (pos_word_num)) - (gamma * neg_word_num))\n",
    "    return c"
   ]
  },
  {
   "cell_type": "code",
   "execution_count": 66,
   "metadata": {},
   "outputs": [
    {
     "name": "stdout",
     "output_type": "stream",
     "text": [
      "[0 0 0 ... 0 1 0]\n",
      "[62 87  1 ...  2  0  1]\n",
      "5490\n",
      "100403\n",
      "[0 0 0 ... 0 0 0]\n",
      "[62 87  1 ...  2  1  1]\n",
      "1709\n",
      "104184\n",
      "[2 0 0 ... 0 0 0]\n",
      "[60 87  1 ...  2  1  1]\n",
      "3098\n",
      "102795\n",
      "[1 0 0 ... 0 0 0]\n",
      "[61 87  1 ...  2  1  1]\n",
      "1974\n",
      "103919\n",
      "[0 2 0 ... 0 0 0]\n",
      "[62 85  1 ...  2  1  1]\n"
     ]
    },
    {
     "ename": "KeyboardInterrupt",
     "evalue": "",
     "output_type": "error",
     "traceback": [
      "\u001b[1;31m---------------------------------------------------------------------------\u001b[0m",
      "\u001b[1;31mKeyboardInterrupt\u001b[0m                         Traceback (most recent call last)",
      "Cell \u001b[1;32mIn[66], line 1\u001b[0m\n\u001b[1;32m----> 1\u001b[0m c \u001b[39m=\u001b[39m rocchio_method(X\u001b[39m.\u001b[39;49mtoarray(), target, \u001b[39m20\u001b[39;49m, \u001b[39m16\u001b[39;49m, \u001b[39m4\u001b[39;49m)\n",
      "Cell \u001b[1;32mIn[65], line 28\u001b[0m, in \u001b[0;36mrocchio_method\u001b[1;34m(train, target, num_class, beta, gamma)\u001b[0m\n\u001b[0;32m     26\u001b[0m \u001b[39mprint\u001b[39m(np\u001b[39m.\u001b[39marray([\u001b[39msum\u001b[39m(x) \u001b[39mfor\u001b[39;00m x \u001b[39min\u001b[39;00m \u001b[39mzip\u001b[39m(\u001b[39m*\u001b[39mneg)]))\n\u001b[0;32m     27\u001b[0m pos_word_num \u001b[39m=\u001b[39m np\u001b[39m.\u001b[39marray([\u001b[39msum\u001b[39m(x) \u001b[39mfor\u001b[39;00m x \u001b[39min\u001b[39;00m \u001b[39mzip\u001b[39m(\u001b[39m*\u001b[39mpos)])\n\u001b[1;32m---> 28\u001b[0m neg_word_num \u001b[39m=\u001b[39m np\u001b[39m.\u001b[39marray([\u001b[39msum\u001b[39;49m(x) \u001b[39mfor\u001b[39;49;00m x \u001b[39min\u001b[39;49;00m \u001b[39mzip\u001b[39;49m(\u001b[39m*\u001b[39;49mneg)])\n\u001b[0;32m     29\u001b[0m \u001b[39mprint\u001b[39m(\u001b[39msum\u001b[39m(pos_word_num))\n\u001b[0;32m     30\u001b[0m \u001b[39mprint\u001b[39m(\u001b[39msum\u001b[39m(neg_word_num))\n",
      "Cell \u001b[1;32mIn[65], line 28\u001b[0m, in \u001b[0;36m<listcomp>\u001b[1;34m(.0)\u001b[0m\n\u001b[0;32m     26\u001b[0m \u001b[39mprint\u001b[39m(np\u001b[39m.\u001b[39marray([\u001b[39msum\u001b[39m(x) \u001b[39mfor\u001b[39;00m x \u001b[39min\u001b[39;00m \u001b[39mzip\u001b[39m(\u001b[39m*\u001b[39mneg)]))\n\u001b[0;32m     27\u001b[0m pos_word_num \u001b[39m=\u001b[39m np\u001b[39m.\u001b[39marray([\u001b[39msum\u001b[39m(x) \u001b[39mfor\u001b[39;00m x \u001b[39min\u001b[39;00m \u001b[39mzip\u001b[39m(\u001b[39m*\u001b[39mpos)])\n\u001b[1;32m---> 28\u001b[0m neg_word_num \u001b[39m=\u001b[39m np\u001b[39m.\u001b[39marray([\u001b[39msum\u001b[39m(x) \u001b[39mfor\u001b[39;00m x \u001b[39min\u001b[39;00m \u001b[39mzip\u001b[39m(\u001b[39m*\u001b[39mneg)])\n\u001b[0;32m     29\u001b[0m \u001b[39mprint\u001b[39m(\u001b[39msum\u001b[39m(pos_word_num))\n\u001b[0;32m     30\u001b[0m \u001b[39mprint\u001b[39m(\u001b[39msum\u001b[39m(neg_word_num))\n",
      "\u001b[1;31mKeyboardInterrupt\u001b[0m: "
     ]
    }
   ],
   "source": [
    "c = rocchio_method(X.toarray(), target, 20, 16, 4)"
   ]
  }
 ],
 "metadata": {
  "kernelspec": {
   "display_name": "Python 3",
   "language": "python",
   "name": "python3"
  },
  "language_info": {
   "codemirror_mode": {
    "name": "ipython",
    "version": 3
   },
   "file_extension": ".py",
   "mimetype": "text/x-python",
   "name": "python",
   "nbconvert_exporter": "python",
   "pygments_lexer": "ipython3",
   "version": "3.11.1"
  },
  "orig_nbformat": 4
 },
 "nbformat": 4,
 "nbformat_minor": 2
}
