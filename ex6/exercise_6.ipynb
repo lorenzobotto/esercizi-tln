{
 "cells": [
  {
   "attachments": {},
   "cell_type": "markdown",
   "metadata": {},
   "source": [
    "# Exercise 6 - Part C"
   ]
  },
  {
   "attachments": {},
   "cell_type": "markdown",
   "metadata": {},
   "source": [
    "### Necessary imports"
   ]
  },
  {
   "cell_type": "code",
   "execution_count": 2,
   "metadata": {},
   "outputs": [],
   "source": [
    "import pandas as pd\n",
    "import os\n",
    "import json"
   ]
  },
  {
   "attachments": {},
   "cell_type": "markdown",
   "metadata": {},
   "source": [
    "### Dataset loading"
   ]
  },
  {
   "cell_type": "code",
   "execution_count": 19,
   "metadata": {},
   "outputs": [],
   "source": [
    "# Create the structure of pandas dataframe\n",
    "df = pd.DataFrame(columns=[\"synset\", \"synonyms\", \"definition\", \"target\"])\n",
    "\n",
    "for filename in os.listdir(\"data/\"):\n",
    "    with open(os.path.join(\"data/\", filename), 'r') as f:\n",
    "        if filename == \"1.json\":\n",
    "            data = json.loads(f.read())\n",
    "            synsets = data[\"dataset\"]\n",
    "            for index, synset in enumerate(synsets):\n",
    "                df.loc[len(df)] = [\n",
    "                    synset.split(\":\")[0],\n",
    "                    synset.split(\":\")[1].split(\"|\")[0].strip(),\n",
    "                    synset.split(\":\")[2].strip(),\n",
    "                    data[\"answers\"][index]\n",
    "                ]\n",
    "        else:\n",
    "            data = json.loads(f.read())\n",
    "            answers = data[\"answers\"]\n",
    "            for index, answer in enumerate(answers):\n",
    "                df.at[index, 'target'] = df.iloc[index]['target'] + \", \" + answer"
   ]
  }
 ],
 "metadata": {
  "kernelspec": {
   "display_name": ".venv",
   "language": "python",
   "name": "python3"
  },
  "language_info": {
   "codemirror_mode": {
    "name": "ipython",
    "version": 3
   },
   "file_extension": ".py",
   "mimetype": "text/x-python",
   "name": "python",
   "nbconvert_exporter": "python",
   "pygments_lexer": "ipython3",
   "version": "3.11.2"
  },
  "orig_nbformat": 4
 },
 "nbformat": 4,
 "nbformat_minor": 2
}
