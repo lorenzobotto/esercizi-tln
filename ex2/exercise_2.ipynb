{
 "cells": [
  {
   "attachments": {},
   "cell_type": "markdown",
   "metadata": {},
   "source": [
    "# Exercise 2"
   ]
  },
  {
   "attachments": {},
   "cell_type": "markdown",
   "metadata": {},
   "source": [
    "### Necessary imports"
   ]
  },
  {
   "cell_type": "code",
   "execution_count": 1,
   "metadata": {},
   "outputs": [],
   "source": [
    "import pandas as pd\n",
    "from nltk import WordNetLemmatizer\n",
    "from nltk.corpus import stopwords\n",
    "from nltk.tokenize import RegexpTokenizer\n",
    "from nltk.corpus import wordnet as wn\n",
    "import warnings\n",
    "warnings.filterwarnings(\"ignore\")\n",
    "\n",
    "lemmatizer = WordNetLemmatizer()\n",
    "tokenizer = RegexpTokenizer(r'\\w+')\n",
    "stop_words = stopwords.words('english')"
   ]
  },
  {
   "attachments": {},
   "cell_type": "markdown",
   "metadata": {},
   "source": [
    "### Dataset loading"
   ]
  },
  {
   "cell_type": "code",
   "execution_count": 2,
   "metadata": {},
   "outputs": [],
   "source": [
    "df = pd.read_csv('data/TLN-definitions-23.tsv', sep='\\t')\n",
    "df_door = df['door']\n",
    "df_ladybug = df['ladybug']\n",
    "df_pain = df['pain']\n",
    "df_blurriness = df['blurriness']"
   ]
  },
  {
   "attachments": {},
   "cell_type": "markdown",
   "metadata": {},
   "source": [
    "### Preprocessing of definitions"
   ]
  },
  {
   "cell_type": "code",
   "execution_count": 3,
   "metadata": {},
   "outputs": [],
   "source": [
    "def pre_process(df: pd.DataFrame) -> pd.DataFrame:\n",
    "    # Stop words removal\n",
    "    df_nostop = df.apply(lambda x: ' '.join([word.lower() for word in x.split() if word.lower() not in (stop_words)]))\n",
    "\n",
    "    # Lemmatization and tokenization (with puntuaction removal)\n",
    "    df_lem = df_nostop.apply(\n",
    "        lambda x: tokenizer.tokenize(' '.join([lemmatizer.lemmatize(word) for word in x.split()]).lower())\n",
    "    )\n",
    "\n",
    "    return df_nostop, df_lem"
   ]
  },
  {
   "cell_type": "code",
   "execution_count": 4,
   "metadata": {},
   "outputs": [],
   "source": [
    "df_door_nostop, df_door_lem = pre_process(df_door)\n",
    "df_ladybug_nostop, df_ladybug_lem = pre_process(df_ladybug)\n",
    "df_pain_nostop, df_pain_lem = pre_process(df_pain)\n",
    "df_blurriness_nostop, df_blurriness_lem = pre_process(df_blurriness)"
   ]
  },
  {
   "attachments": {},
   "cell_type": "markdown",
   "metadata": {},
   "source": [
    "### Getting the frequency of words"
   ]
  },
  {
   "cell_type": "code",
   "execution_count": 5,
   "metadata": {},
   "outputs": [],
   "source": [
    "# I take the words with most frequency\n",
    "def get_frequent_words(df: pd.DataFrame) -> pd.Series:\n",
    "    words = []\n",
    "    for row in df:\n",
    "        for word in row:\n",
    "            if len(word) > 2:\n",
    "                words.append(word)\n",
    "    return pd.Series(words).value_counts()"
   ]
  },
  {
   "cell_type": "code",
   "execution_count": 6,
   "metadata": {},
   "outputs": [],
   "source": [
    "words_door = get_frequent_words(df_door_lem)\n",
    "words_ladybug = get_frequent_words(df_ladybug_lem)\n",
    "words_pain = get_frequent_words(df_pain_lem)\n",
    "words_blurriness = get_frequent_words(df_blurriness_lem)"
   ]
  },
  {
   "attachments": {},
   "cell_type": "markdown",
   "metadata": {},
   "source": [
    "### Function for getting the synsets of a list of words of a concept with associated scores "
   ]
  },
  {
   "cell_type": "code",
   "execution_count": 7,
   "metadata": {},
   "outputs": [],
   "source": [
    "def search_best_synset(words: pd.Series) -> list:\n",
    "    # I take the hyponyms of the words with most frequency\n",
    "    hyponyms_dict = {}\n",
    "    for word in words.index:\n",
    "        synsets = wn.synsets(word)\n",
    "        hyponyms = []\n",
    "        for synset in synsets:\n",
    "            # I take the hyponyms of the synset and also the hyponyms of the hyponyms and also the hyponyms of the hyponyms of the hyponyms\n",
    "            hyponyms_1 = synset.hyponyms()\n",
    "            hyponyms_2 = []\n",
    "            for hyp in hyponyms_1:\n",
    "                hyponyms_2.extend(hyp.hyponyms())\n",
    "            hyponyms_3 = []\n",
    "            for hyp in hyponyms_2:\n",
    "                hyponyms_3.extend(hyp.hyponyms())\n",
    "            hyponyms.extend(hyponyms_1)\n",
    "            hyponyms.extend(hyponyms_2)\n",
    "            hyponyms.extend(hyponyms_3)\n",
    "        hyponyms_dict[word] = hyponyms\n",
    "\n",
    "    results = []\n",
    "    for key, value in hyponyms_dict.items():\n",
    "        for hyp in value:\n",
    "            # I take the definition and examples of the hypernyms\n",
    "            hyp_def_examples = hyp.definition() + ', '.join(hyp.examples())\n",
    "            \n",
    "            # I found the words that are in mine top words and in the definition of the hypernyms\n",
    "            # I associate a score to the hypernyms based on the frequency of the top words founded in the definition\n",
    "            score = 0\n",
    "            matched_words = []\n",
    "            for word in words.index:\n",
    "                if word in hyp_def_examples:\n",
    "                    matched_words.append(word)\n",
    "                    score += words[word]\n",
    "            if score > 0:\n",
    "                results.append((hyp, key, matched_words, score))\n",
    "\n",
    "    return results"
   ]
  },
  {
   "attachments": {},
   "cell_type": "markdown",
   "metadata": {},
   "source": [
    "### I found the synsets and i print the 5 best synsets (based on score) and the words associated"
   ]
  },
  {
   "cell_type": "code",
   "execution_count": 8,
   "metadata": {},
   "outputs": [
    {
     "name": "stdout",
     "output_type": "stream",
     "text": [
      "-----------------------------------\n",
      "Door synsets:\n",
      "Synset: Synset('communication.n.03')\n",
      "Synset definition: a connection allowing access between persons or places\n",
      "Genus: connection\n",
      "Matched words: ['room', 'access', 'passage', 'two', 'people', 'place', 'pas', 'allow', 'way', 'connection', 'person', 'rooms']\n",
      "Score: 45\n",
      "Synset: Synset('doorway.n.01')\n",
      "Synset definition: the entrance (the space in a wall) through which you enter or leave a room or building; the space that a door can close\n",
      "Genus: access\n",
      "Matched words: ['room', 'space', 'wall', 'entrance', 'building', 'enter', 'close', 'way', 'leave', 'door']\n",
      "Score: 41\n",
      "Synset: Synset('corridor.n.01')\n",
      "Synset definition: an enclosed passageway; rooms usually open onto it\n",
      "Genus: passage\n",
      "Matched words: ['room', 'passage', 'usually', 'open', 'closed', 'close', 'pas', 'way', 'rooms']\n",
      "Score: 33\n",
      "Synset: Synset('room.n.01')\n",
      "Synset definition: an area within a building enclosed by walls and floor and ceiling\n",
      "Genus: area\n",
      "Matched words: ['room', 'wall', 'building', 'area', 'closed', 'close', 'small', 'rooms']\n",
      "Score: 32\n",
      "Synset: Synset('pass-through.n.01')\n",
      "Synset definition: an opening that resembles a window between two rooms (especially a shelved opening between a kitchen and dining room that is used to pass dishes)\n",
      "Genus: opening\n",
      "Matched words: ['room', 'used', 'two', 'open', 'opening', 'pas', 'use', 'rooms']\n",
      "Score: 32\n",
      "-----------------------------------\n",
      "Ladybug synsets:\n",
      "Synset: Synset('ladybug.n.01')\n",
      "Synset definition: small round bright-colored and spotted beetle that usually feeds on aphids and other insect pests\n",
      "Genus: insect\n",
      "Matched words: ['insect', 'red', 'small', 'usually', 'spot', 'round', 'color', 'colored', 'pest']\n",
      "Score: 97\n",
      "Synset: Synset('dipterous_insect.n.01')\n",
      "Synset definition: insects having usually a single pair of functional wings (anterior pair) with the posterior pair reduced to small knobbed structures and mouth parts adapted for sucking or lapping or piercing\n",
      "Genus: insect\n",
      "Matched words: ['insect', 'red', 'small', 'usually', 'wings', 'wing']\n",
      "Score: 84\n",
      "Synset: Synset('leaf_bug.n.01')\n",
      "Synset definition: small bright-colored insect that feeds on plant juices\n",
      "Genus: insect\n",
      "Matched words: ['insect', 'red', 'small', 'color', 'colored']\n",
      "Score: 81\n",
      "Synset: Synset('ground_beetle.n.01')\n",
      "Synset definition: predacious shining black or metallic terrestrial beetle that destroys many injurious insects\n",
      "Genus: insect\n",
      "Matched words: ['insect', 'red', 'black', 'many']\n",
      "Score: 80\n",
      "Synset: Synset('chinch_bug.n.01')\n",
      "Synset definition: small black-and-white insect that feeds on cereal grasses\n",
      "Genus: insect\n",
      "Matched words: ['insect', 'black', 'small']\n",
      "Score: 73\n",
      "-----------------------------------\n",
      "Pain synsets:\n",
      "Synset: Synset('agony.n.01')\n",
      "Synset definition: intense feelings of suffering; acute mental or physical pain\n",
      "Genus: feeling\n",
      "Matched words: ['feeling', 'physical', 'pain', 'mental', 'suffering', 'feel', 'suffer']\n",
      "Score: 36\n",
      "Synset: Synset('feelings.n.01')\n",
      "Synset definition: emotional or moral sensitivity (especially in relation to personal principles or dignity)\n",
      "Genus: feeling\n",
      "Matched words: ['feeling', 'emotional', 'hurt', 'emotion', 'person', 'feel']\n",
      "Score: 34\n",
      "Synset: Synset('pain.n.02')\n",
      "Synset definition: emotional distress; a fundamental feeling that people try to avoid\n",
      "Genus: feeling\n",
      "Matched words: ['feeling', 'emotional', 'pain', 'emotion', 'mental', 'feel', 'distress']\n",
      "Score: 33\n",
      "Synset: Synset('suffering.n.04')\n",
      "Synset definition: feelings of mental or physical pain\n",
      "Genus: feeling\n",
      "Matched words: ['feeling', 'physical', 'pain', 'mental', 'feel']\n",
      "Score: 33\n",
      "Synset: Synset('feel.v.04')\n",
      "Synset definition: be conscious of a physical, mental, or emotional state\n",
      "Genus: being\n",
      "Matched words: ['physical', 'emotional', 'felt', 'emotion', 'mental', 'feel']\n",
      "Score: 33\n",
      "-----------------------------------\n",
      "Blurriness synsets:\n",
      "Synset: Synset('vision.n.03')\n",
      "Synset definition: the perceptual experience of seeing\n",
      "Genus: perception\n",
      "Matched words: ['see', 'visual', 'vision', 'clear', 'sensation', 'seeing']\n",
      "Score: 25\n",
      "Synset: Synset('eye_candy.n.01')\n",
      "Synset definition: visual images that are pleasing to see but are intellectually undemanding\n",
      "Genus: perception\n",
      "Matched words: ['see', 'image', 'visual', 'eye', 'can']\n",
      "Score: 24\n",
      "Synset: Synset('safety.n.01')\n",
      "Synset definition: the state of being certain that adverse effects will not be caused by some agent under defined conditions\n",
      "Genus: state\n",
      "Matched words: ['state', 'condition', 'defined', 'effect', 'use', 'used', 'ill', 'certain']\n",
      "Score: 23\n",
      "Synset: Synset('hyperfocal_distance.n.01')\n",
      "Synset definition: the distance in front of a lens that is focused at infinity beyond which all objects are well defined and clear\n",
      "Genus: distance\n",
      "Matched words: ['defined', 'focus', 'object', 'clear', 'distance', 'use', 'used']\n",
      "Score: 21\n",
      "Synset: Synset('brightness_constancy.n.01')\n",
      "Synset definition: the tendency for a visual object to be perceived as having the same brightness under widely different conditions of illumination\n",
      "Genus: perception\n",
      "Matched words: ['visual', 'condition', 'object', 'perceived', 'ill', 'perceive', 'bright']\n",
      "Score: 21\n"
     ]
    }
   ],
   "source": [
    "# Maintain only the 5 best synset with highest score\n",
    "def get_best_synset(synsets: list) -> list:\n",
    "    synsets.sort(key=lambda x: x[3], reverse=True)\n",
    "    best_5 = [synsets[0]]\n",
    "    for synset in synsets[1:]:\n",
    "        if len(best_5) < 5:\n",
    "            exists = False\n",
    "            for best_syn in best_5:\n",
    "                if best_syn[0].name() == synset[0].name():\n",
    "                    exists = True\n",
    "            if not exists:\n",
    "                best_5.append(synset)\n",
    "    return best_5\n",
    "\n",
    "door_synsets = get_best_synset(search_best_synset(words_door))\n",
    "ladybug_synsets = get_best_synset(search_best_synset(words_ladybug))\n",
    "pain_synsets = get_best_synset(search_best_synset(words_pain))\n",
    "bluriness_synsets = get_best_synset(search_best_synset(words_blurriness))\n",
    "\n",
    "print(\"-----------------------------------\")\n",
    "print('Door synsets:')\n",
    "for synset in door_synsets:\n",
    "    print('Synset:', synset[0])\n",
    "    print('Synset definition:', synset[0].definition())\n",
    "    print('Genus:', synset[1])\n",
    "    print('Matched words:', synset[2])\n",
    "    print('Score:', synset[3])\n",
    "\n",
    "print(\"-----------------------------------\")\n",
    "print('Ladybug synsets:')\n",
    "for synset in ladybug_synsets:\n",
    "    print('Synset:', synset[0])\n",
    "    print('Synset definition:', synset[0].definition())\n",
    "    print('Genus:', synset[1])\n",
    "    print('Matched words:', synset[2])\n",
    "    print('Score:', synset[3])\n",
    "\n",
    "print(\"-----------------------------------\")\n",
    "print('Pain synsets:')\n",
    "for synset in pain_synsets:\n",
    "    print('Synset:', synset[0])\n",
    "    print('Synset definition:', synset[0].definition())\n",
    "    print('Genus:', synset[1])\n",
    "    print('Matched words:', synset[2])\n",
    "    print('Score:', synset[3])\n",
    "\n",
    "print(\"-----------------------------------\")\n",
    "print('Blurriness synsets:')\n",
    "for synset in bluriness_synsets:\n",
    "    print('Synset:', synset[0])\n",
    "    print('Synset definition:', synset[0].definition())\n",
    "    print('Genus:', synset[1])\n",
    "    print('Matched words:', synset[2])\n",
    "    print('Score:', synset[3])"
   ]
  }
 ],
 "metadata": {
  "kernelspec": {
   "display_name": ".venv",
   "language": "python",
   "name": "python3"
  },
  "language_info": {
   "codemirror_mode": {
    "name": "ipython",
    "version": 3
   },
   "file_extension": ".py",
   "mimetype": "text/x-python",
   "name": "python",
   "nbconvert_exporter": "python",
   "pygments_lexer": "ipython3",
   "version": "3.11.2"
  },
  "orig_nbformat": 4
 },
 "nbformat": 4,
 "nbformat_minor": 2
}
